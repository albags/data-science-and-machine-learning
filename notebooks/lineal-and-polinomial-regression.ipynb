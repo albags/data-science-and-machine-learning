{
 "cells": [
  {
   "cell_type": "markdown",
   "metadata": {},
   "source": [
    "# Linear and polynomial regression"
   ]
  },
  {
   "cell_type": "markdown",
   "metadata": {},
   "source": [
    "**Business case:**  John the ceo of the winery located in Vilafranca del Penedès wine company was really happy with the results regarding red wine. \n",
    "\n",
    "    \"He has contacted us again because he wants to repeat the same procedure but, in that case for the white wines varieties that he has."
   ]
  },
  {
   "cell_type": "markdown",
   "metadata": {},
   "source": [
    "# Kindly reminder of the business case (`3.3.1.2.Linear-regression-on-RED-wine.ipynb`)\n",
    "\n",
    "      John has to perform a lot of measurements (analysis) to each variety of wine. Among the measurements, the one related to Density which is extremely slow: it takes more than one day per sample! He has contacted us because he wants to know whether it could be possible to build a mathematical model in order to quantify this specific variable on new samples, considering other features from each wine. Building a model that may fit his interest will have important consecuencies for his business: he will save time, and MONEY!\n",
    "      \n",
    "      \n",
    "      \n",
    "**Key information:**\n",
    "- `fixed acidity`: information regarding tartaric acid content (g / dm^3),most acids involved with wine or fixed or nonvolatile (do not evaporate readily). Range  [1- 30]\n",
    "- `volatile acidity`: the amount of acetic acid in wine, which at too high of levels can lead to an unpleasant, vinegar taste. Range [0-2]\n",
    "- `citric acid`:found in small quantities, citric acid can add ‘freshness’ and flavor to wines. Range [0-1]\n",
    "- `residual sugar`:the amount of sugar remaining after fermentation stops, it’s rare to find wines with less than 1 gram/liter and wines with greater than 45 grams/liter are considered sweet. Range [0-20]\n",
    "- `chlorides`: the amount of salt in the wine. Range [0-500]\n",
    "- `free sulfur dioxide`: the free form of SO2 exists in equilibrium between molecular SO2 (as a dissolved gas) and bisulfite ion; it prevents microbial growth and the oxidation of wine. Range [0-750]\n",
    "- `total sulfur dioxide`:amount of free and bound forms of S02; in low concentrations, SO2 is mostly undetectable in wine, but at free SO2 concentrations over 50 ppm, SO2 becomes evident in the nose and taste of wine. Range [0-250]\n",
    "- `water_cont`:content of water in the wine. Range [0-100]\n",
    "- `pH`:describes how acidic or basic a wine is on a scale from 0 (very acidic) to 14 (very basic); most wines are between 3-4 on the pH scale. Range [0-14]\n",
    "- `sulphates`:a wine additive which can contribute to sulfur dioxide gas (S02) levels, wich acts as an antimicrobial and antioxidant. Range [0-5]\n",
    "- `alcohol`:the percent alcohol content of the wine. Range [5-20]\n",
    "- `quality`:quality of the wines based on sensory analysis. Range [1-10]\n",
    "- `density`:the density of water is close to that of water depending on the percent alcohol and sugar content. Range [1-100]"
   ]
  },
  {
   "cell_type": "code",
   "execution_count": 1,
   "metadata": {
    "_uuid": "dd7b70a266c16aebb45b5269164e5d02e2b7ffc4"
   },
   "outputs": [],
   "source": [
    "import numpy as np\n",
    "import pandas as pd\n",
    "import matplotlib.pyplot as plt\n",
    "import seaborn as sns\n",
    "from sklearn import linear_model\n",
    "from sklearn.model_selection import train_test_split\n",
    "from sklearn.metrics import mean_squared_error\n",
    "from sklearn.linear_model import LinearRegression\n",
    "from sklearn.preprocessing import PolynomialFeatures\n",
    "from sklearn import metrics\n",
    "from sklearn.metrics import r2_score\n",
    "from sklearn.preprocessing import MinMaxScaler, StandardScaler, LabelEncoder, RobustScaler\n",
    "from sklearn.linear_model import LinearRegression,Ridge,Lasso,RidgeCV, ElasticNet\n",
    "\n",
    "%matplotlib inline"
   ]
  },
  {
   "cell_type": "code",
   "execution_count": 2,
   "metadata": {},
   "outputs": [
    {
     "data": {
      "text/html": [
       "<div>\n",
       "<style scoped>\n",
       "    .dataframe tbody tr th:only-of-type {\n",
       "        vertical-align: middle;\n",
       "    }\n",
       "\n",
       "    .dataframe tbody tr th {\n",
       "        vertical-align: top;\n",
       "    }\n",
       "\n",
       "    .dataframe thead th {\n",
       "        text-align: right;\n",
       "    }\n",
       "</style>\n",
       "<table border=\"1\" class=\"dataframe\">\n",
       "  <thead>\n",
       "    <tr style=\"text-align: right;\">\n",
       "      <th></th>\n",
       "      <th>fixed acidity</th>\n",
       "      <th>volatile acidity</th>\n",
       "      <th>citric acid</th>\n",
       "      <th>residual sugar</th>\n",
       "      <th>chlorides</th>\n",
       "      <th>free sulfur dioxide</th>\n",
       "      <th>total sulfur dioxide</th>\n",
       "      <th>water_cont</th>\n",
       "      <th>pH</th>\n",
       "      <th>sulphates</th>\n",
       "      <th>alcohol</th>\n",
       "      <th>quality</th>\n",
       "      <th>density</th>\n",
       "    </tr>\n",
       "  </thead>\n",
       "  <tbody>\n",
       "    <tr>\n",
       "      <th>0</th>\n",
       "      <td>7,02</td>\n",
       "      <td>0,26</td>\n",
       "      <td>0,21</td>\n",
       "      <td>16,2</td>\n",
       "      <td>0,074</td>\n",
       "      <td>41</td>\n",
       "      <td>197</td>\n",
       "      <td>0,998</td>\n",
       "      <td>3,02</td>\n",
       "      <td>0,5</td>\n",
       "      <td>9,8</td>\n",
       "      <td>3</td>\n",
       "      <td>10</td>\n",
       "    </tr>\n",
       "    <tr>\n",
       "      <th>1</th>\n",
       "      <td>6,02</td>\n",
       "      <td>0,24</td>\n",
       "      <td>0,44</td>\n",
       "      <td>3,5</td>\n",
       "      <td>0,029</td>\n",
       "      <td>5</td>\n",
       "      <td>109</td>\n",
       "      <td>0,9913</td>\n",
       "      <td>3,53</td>\n",
       "      <td>0,43</td>\n",
       "      <td>11,7</td>\n",
       "      <td>3</td>\n",
       "      <td>12</td>\n",
       "    </tr>\n",
       "    <tr>\n",
       "      <th>2</th>\n",
       "      <td>7,02</td>\n",
       "      <td>0,59</td>\n",
       "      <td>0,38</td>\n",
       "      <td>1,6</td>\n",
       "      <td>0,066</td>\n",
       "      <td>34</td>\n",
       "      <td>182</td>\n",
       "      <td>0,9968</td>\n",
       "      <td>3,23</td>\n",
       "      <td>0,38</td>\n",
       "      <td>8,5</td>\n",
       "      <td>3</td>\n",
       "      <td>14</td>\n",
       "    </tr>\n",
       "    <tr>\n",
       "      <th>3</th>\n",
       "      <td>7,02</td>\n",
       "      <td>0,32</td>\n",
       "      <td>0,32</td>\n",
       "      <td>11</td>\n",
       "      <td>0,038</td>\n",
       "      <td>16</td>\n",
       "      <td>66</td>\n",
       "      <td>0,9937</td>\n",
       "      <td>3,24</td>\n",
       "      <td>0,4</td>\n",
       "      <td>11,5</td>\n",
       "      <td>3</td>\n",
       "      <td>13</td>\n",
       "    </tr>\n",
       "    <tr>\n",
       "      <th>4</th>\n",
       "      <td>6,02</td>\n",
       "      <td>0,39</td>\n",
       "      <td>0,4</td>\n",
       "      <td>4,6</td>\n",
       "      <td>0,022</td>\n",
       "      <td>5</td>\n",
       "      <td>19</td>\n",
       "      <td>0,9915</td>\n",
       "      <td>3,31</td>\n",
       "      <td>0,37</td>\n",
       "      <td>12,6</td>\n",
       "      <td>3</td>\n",
       "      <td>11</td>\n",
       "    </tr>\n",
       "  </tbody>\n",
       "</table>\n",
       "</div>"
      ],
      "text/plain": [
       "  fixed acidity volatile acidity citric acid residual sugar chlorides  \\\n",
       "0          7,02             0,26        0,21           16,2     0,074   \n",
       "1          6,02             0,24        0,44            3,5     0,029   \n",
       "2          7,02             0,59        0,38            1,6     0,066   \n",
       "3          7,02             0,32        0,32             11     0,038   \n",
       "4          6,02             0,39         0,4            4,6     0,022   \n",
       "\n",
       "  free sulfur dioxide total sulfur dioxide water_cont    pH sulphates alcohol  \\\n",
       "0                  41                  197      0,998  3,02       0,5     9,8   \n",
       "1                   5                  109     0,9913  3,53      0,43    11,7   \n",
       "2                  34                  182     0,9968  3,23      0,38     8,5   \n",
       "3                  16                   66     0,9937  3,24       0,4    11,5   \n",
       "4                   5                   19     0,9915  3,31      0,37    12,6   \n",
       "\n",
       "   quality  density  \n",
       "0        3       10  \n",
       "1        3       12  \n",
       "2        3       14  \n",
       "3        3       13  \n",
       "4        3       11  "
      ]
     },
     "execution_count": 2,
     "metadata": {},
     "output_type": "execute_result"
    }
   ],
   "source": [
    "dataset = pd.read_csv('../datasets/winequality-white.csv', sep=';')\n",
    "dataset.head()"
   ]
  },
  {
   "cell_type": "code",
   "execution_count": 3,
   "metadata": {},
   "outputs": [
    {
     "name": "stdout",
     "output_type": "stream",
     "text": [
      "<class 'pandas.core.frame.DataFrame'>\n",
      "RangeIndex: 4898 entries, 0 to 4897\n",
      "Data columns (total 13 columns):\n",
      " #   Column                Non-Null Count  Dtype \n",
      "---  ------                --------------  ----- \n",
      " 0   fixed acidity         4898 non-null   object\n",
      " 1   volatile acidity      4898 non-null   object\n",
      " 2   citric acid           4898 non-null   object\n",
      " 3   residual sugar        4898 non-null   object\n",
      " 4   chlorides             4898 non-null   object\n",
      " 5   free sulfur dioxide   4898 non-null   object\n",
      " 6   total sulfur dioxide  4898 non-null   object\n",
      " 7   water_cont            4898 non-null   object\n",
      " 8   pH                    4898 non-null   object\n",
      " 9   sulphates             4898 non-null   object\n",
      " 10  alcohol               4898 non-null   object\n",
      " 11  quality               4898 non-null   int64 \n",
      " 12  density               4898 non-null   int64 \n",
      "dtypes: int64(2), object(11)\n",
      "memory usage: 497.6+ KB\n"
     ]
    }
   ],
   "source": [
    "dataset.info()"
   ]
  },
  {
   "cell_type": "code",
   "execution_count": 4,
   "metadata": {},
   "outputs": [],
   "source": [
    "for column in dataset:\n",
    "     if dataset[column].dtype == 'object': \n",
    "            dataset[column] = dataset[column].str.replace(',','.')\n",
    "            dataset[column] = dataset[column].astype(float)"
   ]
  },
  {
   "cell_type": "code",
   "execution_count": 5,
   "metadata": {},
   "outputs": [
    {
     "name": "stdout",
     "output_type": "stream",
     "text": [
      "<class 'pandas.core.frame.DataFrame'>\n",
      "RangeIndex: 4898 entries, 0 to 4897\n",
      "Data columns (total 13 columns):\n",
      " #   Column                Non-Null Count  Dtype  \n",
      "---  ------                --------------  -----  \n",
      " 0   fixed acidity         4898 non-null   float64\n",
      " 1   volatile acidity      4898 non-null   float64\n",
      " 2   citric acid           4898 non-null   float64\n",
      " 3   residual sugar        4898 non-null   float64\n",
      " 4   chlorides             4898 non-null   float64\n",
      " 5   free sulfur dioxide   4898 non-null   float64\n",
      " 6   total sulfur dioxide  4898 non-null   float64\n",
      " 7   water_cont            4898 non-null   float64\n",
      " 8   pH                    4898 non-null   float64\n",
      " 9   sulphates             4898 non-null   float64\n",
      " 10  alcohol               4898 non-null   float64\n",
      " 11  quality               4898 non-null   int64  \n",
      " 12  density               4898 non-null   int64  \n",
      "dtypes: float64(11), int64(2)\n",
      "memory usage: 497.6 KB\n"
     ]
    }
   ],
   "source": [
    "dataset.info()"
   ]
  },
  {
   "cell_type": "code",
   "execution_count": 6,
   "metadata": {},
   "outputs": [
    {
     "data": {
      "text/html": [
       "<div>\n",
       "<style scoped>\n",
       "    .dataframe tbody tr th:only-of-type {\n",
       "        vertical-align: middle;\n",
       "    }\n",
       "\n",
       "    .dataframe tbody tr th {\n",
       "        vertical-align: top;\n",
       "    }\n",
       "\n",
       "    .dataframe thead th {\n",
       "        text-align: right;\n",
       "    }\n",
       "</style>\n",
       "<table border=\"1\" class=\"dataframe\">\n",
       "  <thead>\n",
       "    <tr style=\"text-align: right;\">\n",
       "      <th></th>\n",
       "      <th>fixed acidity</th>\n",
       "      <th>volatile acidity</th>\n",
       "      <th>citric acid</th>\n",
       "      <th>residual sugar</th>\n",
       "      <th>chlorides</th>\n",
       "      <th>free sulfur dioxide</th>\n",
       "      <th>total sulfur dioxide</th>\n",
       "      <th>water_cont</th>\n",
       "      <th>pH</th>\n",
       "      <th>sulphates</th>\n",
       "      <th>alcohol</th>\n",
       "      <th>quality</th>\n",
       "      <th>density</th>\n",
       "    </tr>\n",
       "  </thead>\n",
       "  <tbody>\n",
       "    <tr>\n",
       "      <th>0</th>\n",
       "      <td>7.02</td>\n",
       "      <td>0.26</td>\n",
       "      <td>0.21</td>\n",
       "      <td>16.2</td>\n",
       "      <td>0.074</td>\n",
       "      <td>41.0</td>\n",
       "      <td>197.0</td>\n",
       "      <td>0.9980</td>\n",
       "      <td>3.02</td>\n",
       "      <td>0.50</td>\n",
       "      <td>9.8</td>\n",
       "      <td>3</td>\n",
       "      <td>10</td>\n",
       "    </tr>\n",
       "    <tr>\n",
       "      <th>1</th>\n",
       "      <td>6.02</td>\n",
       "      <td>0.24</td>\n",
       "      <td>0.44</td>\n",
       "      <td>3.5</td>\n",
       "      <td>0.029</td>\n",
       "      <td>5.0</td>\n",
       "      <td>109.0</td>\n",
       "      <td>0.9913</td>\n",
       "      <td>3.53</td>\n",
       "      <td>0.43</td>\n",
       "      <td>11.7</td>\n",
       "      <td>3</td>\n",
       "      <td>12</td>\n",
       "    </tr>\n",
       "    <tr>\n",
       "      <th>2</th>\n",
       "      <td>7.02</td>\n",
       "      <td>0.59</td>\n",
       "      <td>0.38</td>\n",
       "      <td>1.6</td>\n",
       "      <td>0.066</td>\n",
       "      <td>34.0</td>\n",
       "      <td>182.0</td>\n",
       "      <td>0.9968</td>\n",
       "      <td>3.23</td>\n",
       "      <td>0.38</td>\n",
       "      <td>8.5</td>\n",
       "      <td>3</td>\n",
       "      <td>14</td>\n",
       "    </tr>\n",
       "    <tr>\n",
       "      <th>3</th>\n",
       "      <td>7.02</td>\n",
       "      <td>0.32</td>\n",
       "      <td>0.32</td>\n",
       "      <td>11.0</td>\n",
       "      <td>0.038</td>\n",
       "      <td>16.0</td>\n",
       "      <td>66.0</td>\n",
       "      <td>0.9937</td>\n",
       "      <td>3.24</td>\n",
       "      <td>0.40</td>\n",
       "      <td>11.5</td>\n",
       "      <td>3</td>\n",
       "      <td>13</td>\n",
       "    </tr>\n",
       "    <tr>\n",
       "      <th>4</th>\n",
       "      <td>6.02</td>\n",
       "      <td>0.39</td>\n",
       "      <td>0.40</td>\n",
       "      <td>4.6</td>\n",
       "      <td>0.022</td>\n",
       "      <td>5.0</td>\n",
       "      <td>19.0</td>\n",
       "      <td>0.9915</td>\n",
       "      <td>3.31</td>\n",
       "      <td>0.37</td>\n",
       "      <td>12.6</td>\n",
       "      <td>3</td>\n",
       "      <td>11</td>\n",
       "    </tr>\n",
       "  </tbody>\n",
       "</table>\n",
       "</div>"
      ],
      "text/plain": [
       "   fixed acidity  volatile acidity  citric acid  residual sugar  chlorides  \\\n",
       "0           7.02              0.26         0.21            16.2      0.074   \n",
       "1           6.02              0.24         0.44             3.5      0.029   \n",
       "2           7.02              0.59         0.38             1.6      0.066   \n",
       "3           7.02              0.32         0.32            11.0      0.038   \n",
       "4           6.02              0.39         0.40             4.6      0.022   \n",
       "\n",
       "   free sulfur dioxide  total sulfur dioxide  water_cont    pH  sulphates  \\\n",
       "0                 41.0                 197.0      0.9980  3.02       0.50   \n",
       "1                  5.0                 109.0      0.9913  3.53       0.43   \n",
       "2                 34.0                 182.0      0.9968  3.23       0.38   \n",
       "3                 16.0                  66.0      0.9937  3.24       0.40   \n",
       "4                  5.0                  19.0      0.9915  3.31       0.37   \n",
       "\n",
       "   alcohol  quality  density  \n",
       "0      9.8        3       10  \n",
       "1     11.7        3       12  \n",
       "2      8.5        3       14  \n",
       "3     11.5        3       13  \n",
       "4     12.6        3       11  "
      ]
     },
     "execution_count": 6,
     "metadata": {},
     "output_type": "execute_result"
    }
   ],
   "source": [
    "dataset.head()"
   ]
  },
  {
   "cell_type": "code",
   "execution_count": 7,
   "metadata": {},
   "outputs": [
    {
     "name": "stdout",
     "output_type": "stream",
     "text": [
      "<class 'pandas.core.frame.DataFrame'>\n",
      "RangeIndex: 4898 entries, 0 to 4897\n",
      "Data columns (total 13 columns):\n",
      " #   Column                Non-Null Count  Dtype  \n",
      "---  ------                --------------  -----  \n",
      " 0   fixed acidity         4898 non-null   float64\n",
      " 1   volatile acidity      4898 non-null   float64\n",
      " 2   citric acid           4898 non-null   float64\n",
      " 3   residual sugar        4898 non-null   float64\n",
      " 4   chlorides             4898 non-null   float64\n",
      " 5   free sulfur dioxide   4898 non-null   float64\n",
      " 6   total sulfur dioxide  4898 non-null   float64\n",
      " 7   water_cont            4898 non-null   float64\n",
      " 8   pH                    4898 non-null   float64\n",
      " 9   sulphates             4898 non-null   float64\n",
      " 10  alcohol               4898 non-null   float64\n",
      " 11  quality               4898 non-null   int64  \n",
      " 12  density               4898 non-null   int64  \n",
      "dtypes: float64(11), int64(2)\n",
      "memory usage: 497.6 KB\n"
     ]
    }
   ],
   "source": [
    "dataset.info()"
   ]
  },
  {
   "cell_type": "code",
   "execution_count": 8,
   "metadata": {},
   "outputs": [
    {
     "data": {
      "text/html": [
       "<div>\n",
       "<style scoped>\n",
       "    .dataframe tbody tr th:only-of-type {\n",
       "        vertical-align: middle;\n",
       "    }\n",
       "\n",
       "    .dataframe tbody tr th {\n",
       "        vertical-align: top;\n",
       "    }\n",
       "\n",
       "    .dataframe thead th {\n",
       "        text-align: right;\n",
       "    }\n",
       "</style>\n",
       "<table border=\"1\" class=\"dataframe\">\n",
       "  <thead>\n",
       "    <tr style=\"text-align: right;\">\n",
       "      <th></th>\n",
       "      <th>fixed acidity</th>\n",
       "      <th>volatile acidity</th>\n",
       "      <th>citric acid</th>\n",
       "      <th>residual sugar</th>\n",
       "      <th>chlorides</th>\n",
       "      <th>free sulfur dioxide</th>\n",
       "      <th>total sulfur dioxide</th>\n",
       "      <th>water_cont</th>\n",
       "      <th>pH</th>\n",
       "      <th>sulphates</th>\n",
       "      <th>alcohol</th>\n",
       "      <th>quality</th>\n",
       "      <th>density</th>\n",
       "    </tr>\n",
       "  </thead>\n",
       "  <tbody>\n",
       "    <tr>\n",
       "      <th>count</th>\n",
       "      <td>4898.000000</td>\n",
       "      <td>4898.000000</td>\n",
       "      <td>4898.000000</td>\n",
       "      <td>4898.000000</td>\n",
       "      <td>4898.000000</td>\n",
       "      <td>4898.000000</td>\n",
       "      <td>4898.000000</td>\n",
       "      <td>4898.000000</td>\n",
       "      <td>4898.000000</td>\n",
       "      <td>4898.000000</td>\n",
       "      <td>4898.00000</td>\n",
       "      <td>4898.000000</td>\n",
       "      <td>4898.000000</td>\n",
       "    </tr>\n",
       "    <tr>\n",
       "      <th>mean</th>\n",
       "      <td>15.896480</td>\n",
       "      <td>0.278241</td>\n",
       "      <td>0.538067</td>\n",
       "      <td>6.589465</td>\n",
       "      <td>0.045770</td>\n",
       "      <td>35.301143</td>\n",
       "      <td>138.527460</td>\n",
       "      <td>0.994025</td>\n",
       "      <td>3.188265</td>\n",
       "      <td>2.531221</td>\n",
       "      <td>10.51492</td>\n",
       "      <td>5.877705</td>\n",
       "      <td>28.365047</td>\n",
       "    </tr>\n",
       "    <tr>\n",
       "      <th>std</th>\n",
       "      <td>5.513573</td>\n",
       "      <td>0.100795</td>\n",
       "      <td>14.270080</td>\n",
       "      <td>15.061426</td>\n",
       "      <td>0.021849</td>\n",
       "      <td>17.010119</td>\n",
       "      <td>44.243068</td>\n",
       "      <td>0.002990</td>\n",
       "      <td>0.151003</td>\n",
       "      <td>142.865064</td>\n",
       "      <td>1.23056</td>\n",
       "      <td>0.885726</td>\n",
       "      <td>6.422490</td>\n",
       "    </tr>\n",
       "    <tr>\n",
       "      <th>min</th>\n",
       "      <td>6.020000</td>\n",
       "      <td>0.080000</td>\n",
       "      <td>0.000000</td>\n",
       "      <td>0.600000</td>\n",
       "      <td>0.009000</td>\n",
       "      <td>2.000000</td>\n",
       "      <td>9.000000</td>\n",
       "      <td>0.987110</td>\n",
       "      <td>2.720000</td>\n",
       "      <td>0.220000</td>\n",
       "      <td>8.00000</td>\n",
       "      <td>3.000000</td>\n",
       "      <td>10.000000</td>\n",
       "    </tr>\n",
       "    <tr>\n",
       "      <th>25%</th>\n",
       "      <td>10.020000</td>\n",
       "      <td>0.210000</td>\n",
       "      <td>0.270000</td>\n",
       "      <td>1.700000</td>\n",
       "      <td>0.036000</td>\n",
       "      <td>23.000000</td>\n",
       "      <td>108.000000</td>\n",
       "      <td>0.991720</td>\n",
       "      <td>3.090000</td>\n",
       "      <td>0.410000</td>\n",
       "      <td>9.50000</td>\n",
       "      <td>5.000000</td>\n",
       "      <td>23.000000</td>\n",
       "    </tr>\n",
       "    <tr>\n",
       "      <th>50%</th>\n",
       "      <td>16.020000</td>\n",
       "      <td>0.260000</td>\n",
       "      <td>0.320000</td>\n",
       "      <td>5.200000</td>\n",
       "      <td>0.043000</td>\n",
       "      <td>34.000000</td>\n",
       "      <td>134.000000</td>\n",
       "      <td>0.993735</td>\n",
       "      <td>3.180000</td>\n",
       "      <td>0.470000</td>\n",
       "      <td>10.40000</td>\n",
       "      <td>6.000000</td>\n",
       "      <td>28.000000</td>\n",
       "    </tr>\n",
       "    <tr>\n",
       "      <th>75%</th>\n",
       "      <td>19.020000</td>\n",
       "      <td>0.320000</td>\n",
       "      <td>0.390000</td>\n",
       "      <td>9.900000</td>\n",
       "      <td>0.050000</td>\n",
       "      <td>46.000000</td>\n",
       "      <td>167.000000</td>\n",
       "      <td>0.996100</td>\n",
       "      <td>3.280000</td>\n",
       "      <td>0.550000</td>\n",
       "      <td>11.40000</td>\n",
       "      <td>6.000000</td>\n",
       "      <td>32.000000</td>\n",
       "    </tr>\n",
       "    <tr>\n",
       "      <th>max</th>\n",
       "      <td>32.020000</td>\n",
       "      <td>1.100000</td>\n",
       "      <td>999.000000</td>\n",
       "      <td>999.000000</td>\n",
       "      <td>0.346000</td>\n",
       "      <td>289.000000</td>\n",
       "      <td>999.000000</td>\n",
       "      <td>1.038980</td>\n",
       "      <td>3.820000</td>\n",
       "      <td>9999.000000</td>\n",
       "      <td>14.20000</td>\n",
       "      <td>9.000000</td>\n",
       "      <td>55.000000</td>\n",
       "    </tr>\n",
       "  </tbody>\n",
       "</table>\n",
       "</div>"
      ],
      "text/plain": [
       "       fixed acidity  volatile acidity  citric acid  residual sugar  \\\n",
       "count    4898.000000       4898.000000  4898.000000     4898.000000   \n",
       "mean       15.896480          0.278241     0.538067        6.589465   \n",
       "std         5.513573          0.100795    14.270080       15.061426   \n",
       "min         6.020000          0.080000     0.000000        0.600000   \n",
       "25%        10.020000          0.210000     0.270000        1.700000   \n",
       "50%        16.020000          0.260000     0.320000        5.200000   \n",
       "75%        19.020000          0.320000     0.390000        9.900000   \n",
       "max        32.020000          1.100000   999.000000      999.000000   \n",
       "\n",
       "         chlorides  free sulfur dioxide  total sulfur dioxide   water_cont  \\\n",
       "count  4898.000000          4898.000000           4898.000000  4898.000000   \n",
       "mean      0.045770            35.301143            138.527460     0.994025   \n",
       "std       0.021849            17.010119             44.243068     0.002990   \n",
       "min       0.009000             2.000000              9.000000     0.987110   \n",
       "25%       0.036000            23.000000            108.000000     0.991720   \n",
       "50%       0.043000            34.000000            134.000000     0.993735   \n",
       "75%       0.050000            46.000000            167.000000     0.996100   \n",
       "max       0.346000           289.000000            999.000000     1.038980   \n",
       "\n",
       "                pH    sulphates     alcohol      quality      density  \n",
       "count  4898.000000  4898.000000  4898.00000  4898.000000  4898.000000  \n",
       "mean      3.188265     2.531221    10.51492     5.877705    28.365047  \n",
       "std       0.151003   142.865064     1.23056     0.885726     6.422490  \n",
       "min       2.720000     0.220000     8.00000     3.000000    10.000000  \n",
       "25%       3.090000     0.410000     9.50000     5.000000    23.000000  \n",
       "50%       3.180000     0.470000    10.40000     6.000000    28.000000  \n",
       "75%       3.280000     0.550000    11.40000     6.000000    32.000000  \n",
       "max       3.820000  9999.000000    14.20000     9.000000    55.000000  "
      ]
     },
     "execution_count": 8,
     "metadata": {},
     "output_type": "execute_result"
    }
   ],
   "source": [
    "dataset.describe()"
   ]
  },
  {
   "cell_type": "code",
   "execution_count": 9,
   "metadata": {},
   "outputs": [
    {
     "data": {
      "text/plain": [
       "56"
      ]
     },
     "execution_count": 9,
     "metadata": {},
     "output_type": "execute_result"
    }
   ],
   "source": [
    "dataset.duplicated().sum()"
   ]
  },
  {
   "cell_type": "code",
   "execution_count": 10,
   "metadata": {},
   "outputs": [],
   "source": [
    "dataset = dataset.drop_duplicates()"
   ]
  },
  {
   "cell_type": "code",
   "execution_count": 11,
   "metadata": {},
   "outputs": [],
   "source": [
    "dataset.reset_index(drop=True, inplace = True)"
   ]
  },
  {
   "cell_type": "code",
   "execution_count": 12,
   "metadata": {},
   "outputs": [
    {
     "data": {
      "text/plain": [
       "0"
      ]
     },
     "execution_count": 12,
     "metadata": {},
     "output_type": "execute_result"
    }
   ],
   "source": [
    "dataset.duplicated().sum()"
   ]
  },
  {
   "cell_type": "code",
   "execution_count": 13,
   "metadata": {},
   "outputs": [
    {
     "data": {
      "text/plain": [
       "(4842, 13)"
      ]
     },
     "execution_count": 13,
     "metadata": {},
     "output_type": "execute_result"
    }
   ],
   "source": [
    "dataset.shape"
   ]
  },
  {
   "cell_type": "code",
   "execution_count": 14,
   "metadata": {},
   "outputs": [
    {
     "data": {
      "text/html": [
       "<div>\n",
       "<style scoped>\n",
       "    .dataframe tbody tr th:only-of-type {\n",
       "        vertical-align: middle;\n",
       "    }\n",
       "\n",
       "    .dataframe tbody tr th {\n",
       "        vertical-align: top;\n",
       "    }\n",
       "\n",
       "    .dataframe thead th {\n",
       "        text-align: right;\n",
       "    }\n",
       "</style>\n",
       "<table border=\"1\" class=\"dataframe\">\n",
       "  <thead>\n",
       "    <tr style=\"text-align: right;\">\n",
       "      <th></th>\n",
       "      <th>fixed acidity</th>\n",
       "      <th>volatile acidity</th>\n",
       "      <th>citric acid</th>\n",
       "      <th>residual sugar</th>\n",
       "      <th>chlorides</th>\n",
       "      <th>free sulfur dioxide</th>\n",
       "      <th>total sulfur dioxide</th>\n",
       "      <th>water_cont</th>\n",
       "      <th>pH</th>\n",
       "      <th>sulphates</th>\n",
       "      <th>alcohol</th>\n",
       "      <th>quality</th>\n",
       "      <th>density</th>\n",
       "    </tr>\n",
       "  </thead>\n",
       "  <tbody>\n",
       "    <tr>\n",
       "      <th>0</th>\n",
       "      <td>7.02</td>\n",
       "      <td>0.26</td>\n",
       "      <td>0.21</td>\n",
       "      <td>16.2</td>\n",
       "      <td>0.074</td>\n",
       "      <td>41.0</td>\n",
       "      <td>197.0</td>\n",
       "      <td>0.9980</td>\n",
       "      <td>3.02</td>\n",
       "      <td>0.50</td>\n",
       "      <td>9.8</td>\n",
       "      <td>3</td>\n",
       "      <td>10</td>\n",
       "    </tr>\n",
       "    <tr>\n",
       "      <th>1</th>\n",
       "      <td>6.02</td>\n",
       "      <td>0.24</td>\n",
       "      <td>0.44</td>\n",
       "      <td>3.5</td>\n",
       "      <td>0.029</td>\n",
       "      <td>5.0</td>\n",
       "      <td>109.0</td>\n",
       "      <td>0.9913</td>\n",
       "      <td>3.53</td>\n",
       "      <td>0.43</td>\n",
       "      <td>11.7</td>\n",
       "      <td>3</td>\n",
       "      <td>12</td>\n",
       "    </tr>\n",
       "    <tr>\n",
       "      <th>2</th>\n",
       "      <td>7.02</td>\n",
       "      <td>0.59</td>\n",
       "      <td>0.38</td>\n",
       "      <td>1.6</td>\n",
       "      <td>0.066</td>\n",
       "      <td>34.0</td>\n",
       "      <td>182.0</td>\n",
       "      <td>0.9968</td>\n",
       "      <td>3.23</td>\n",
       "      <td>0.38</td>\n",
       "      <td>8.5</td>\n",
       "      <td>3</td>\n",
       "      <td>14</td>\n",
       "    </tr>\n",
       "    <tr>\n",
       "      <th>3</th>\n",
       "      <td>7.02</td>\n",
       "      <td>0.32</td>\n",
       "      <td>0.32</td>\n",
       "      <td>11.0</td>\n",
       "      <td>0.038</td>\n",
       "      <td>16.0</td>\n",
       "      <td>66.0</td>\n",
       "      <td>0.9937</td>\n",
       "      <td>3.24</td>\n",
       "      <td>0.40</td>\n",
       "      <td>11.5</td>\n",
       "      <td>3</td>\n",
       "      <td>13</td>\n",
       "    </tr>\n",
       "    <tr>\n",
       "      <th>4</th>\n",
       "      <td>6.02</td>\n",
       "      <td>0.39</td>\n",
       "      <td>0.40</td>\n",
       "      <td>4.6</td>\n",
       "      <td>0.022</td>\n",
       "      <td>5.0</td>\n",
       "      <td>19.0</td>\n",
       "      <td>0.9915</td>\n",
       "      <td>3.31</td>\n",
       "      <td>0.37</td>\n",
       "      <td>12.6</td>\n",
       "      <td>3</td>\n",
       "      <td>11</td>\n",
       "    </tr>\n",
       "  </tbody>\n",
       "</table>\n",
       "</div>"
      ],
      "text/plain": [
       "   fixed acidity  volatile acidity  citric acid  residual sugar  chlorides  \\\n",
       "0           7.02              0.26         0.21            16.2      0.074   \n",
       "1           6.02              0.24         0.44             3.5      0.029   \n",
       "2           7.02              0.59         0.38             1.6      0.066   \n",
       "3           7.02              0.32         0.32            11.0      0.038   \n",
       "4           6.02              0.39         0.40             4.6      0.022   \n",
       "\n",
       "   free sulfur dioxide  total sulfur dioxide  water_cont    pH  sulphates  \\\n",
       "0                 41.0                 197.0      0.9980  3.02       0.50   \n",
       "1                  5.0                 109.0      0.9913  3.53       0.43   \n",
       "2                 34.0                 182.0      0.9968  3.23       0.38   \n",
       "3                 16.0                  66.0      0.9937  3.24       0.40   \n",
       "4                  5.0                  19.0      0.9915  3.31       0.37   \n",
       "\n",
       "   alcohol  quality  density  \n",
       "0      9.8        3       10  \n",
       "1     11.7        3       12  \n",
       "2      8.5        3       14  \n",
       "3     11.5        3       13  \n",
       "4     12.6        3       11  "
      ]
     },
     "execution_count": 14,
     "metadata": {},
     "output_type": "execute_result"
    }
   ],
   "source": [
    "dataset.head()"
   ]
  },
  {
   "cell_type": "code",
   "execution_count": 15,
   "metadata": {},
   "outputs": [
    {
     "name": "stderr",
     "output_type": "stream",
     "text": [
      "/Users/albagomez/opt/anaconda3/envs/DataAnalytics/lib/python3.7/site-packages/seaborn/categorical.py:3714: UserWarning: The `factorplot` function has been renamed to `catplot`. The original name will be removed in a future release. Please update your code. Note that the default `kind` in `factorplot` (`'point'`) has changed `'strip'` in `catplot`.\n",
      "  warnings.warn(msg)\n",
      "/Users/albagomez/opt/anaconda3/envs/DataAnalytics/lib/python3.7/site-packages/seaborn/categorical.py:3720: UserWarning: The `size` parameter has been renamed to `height`; please update your code.\n",
      "  warnings.warn(msg, UserWarning)\n"
     ]
    },
    {
     "data": {
      "image/png": "[encoded data removed]",
      "text/plain": [
       "<Figure size 1260x504 with 1 Axes>"
      ]
     },
     "metadata": {
      "needs_background": "light"
     },
     "output_type": "display_data"
    }
   ],
   "source": [
    "sns.factorplot(data=dataset.drop(['density'], axis=1) , \n",
    "               kind='box' , size=7, aspect=2.5);\n",
    "plt.show()"
   ]
  },
  {
   "cell_type": "code",
   "execution_count": 16,
   "metadata": {},
   "outputs": [
    {
     "data": {
      "text/html": [
       "<div>\n",
       "<style scoped>\n",
       "    .dataframe tbody tr th:only-of-type {\n",
       "        vertical-align: middle;\n",
       "    }\n",
       "\n",
       "    .dataframe tbody tr th {\n",
       "        vertical-align: top;\n",
       "    }\n",
       "\n",
       "    .dataframe thead th {\n",
       "        text-align: right;\n",
       "    }\n",
       "</style>\n",
       "<table border=\"1\" class=\"dataframe\">\n",
       "  <thead>\n",
       "    <tr style=\"text-align: right;\">\n",
       "      <th></th>\n",
       "      <th>fixed acidity</th>\n",
       "      <th>volatile acidity</th>\n",
       "      <th>citric acid</th>\n",
       "      <th>residual sugar</th>\n",
       "      <th>chlorides</th>\n",
       "      <th>free sulfur dioxide</th>\n",
       "      <th>total sulfur dioxide</th>\n",
       "      <th>water_cont</th>\n",
       "      <th>pH</th>\n",
       "      <th>sulphates</th>\n",
       "      <th>alcohol</th>\n",
       "      <th>quality</th>\n",
       "      <th>density</th>\n",
       "    </tr>\n",
       "  </thead>\n",
       "  <tbody>\n",
       "    <tr>\n",
       "      <th>30</th>\n",
       "      <td>8.02</td>\n",
       "      <td>0.64</td>\n",
       "      <td>0.08</td>\n",
       "      <td>999.0</td>\n",
       "      <td>0.062</td>\n",
       "      <td>26.0</td>\n",
       "      <td>142.0</td>\n",
       "      <td>0.9972</td>\n",
       "      <td>3.37</td>\n",
       "      <td>9999.0</td>\n",
       "      <td>8.9</td>\n",
       "      <td>4</td>\n",
       "      <td>16</td>\n",
       "    </tr>\n",
       "  </tbody>\n",
       "</table>\n",
       "</div>"
      ],
      "text/plain": [
       "    fixed acidity  volatile acidity  citric acid  residual sugar  chlorides  \\\n",
       "30           8.02              0.64         0.08           999.0      0.062   \n",
       "\n",
       "    free sulfur dioxide  total sulfur dioxide  water_cont    pH  sulphates  \\\n",
       "30                 26.0                 142.0      0.9972  3.37     9999.0   \n",
       "\n",
       "    alcohol  quality  density  \n",
       "30      8.9        4       16  "
      ]
     },
     "execution_count": 16,
     "metadata": {},
     "output_type": "execute_result"
    }
   ],
   "source": [
    "# dataset['sulphates'].replace(9999, dataset['sulphates'].mean(), inplace=True)\n",
    "dataset[dataset['sulphates'] == 9999]"
   ]
  },
  {
   "cell_type": "code",
   "execution_count": 17,
   "metadata": {},
   "outputs": [],
   "source": [
    "dataset.drop(index=30, inplace=True)"
   ]
  },
  {
   "cell_type": "code",
   "execution_count": 18,
   "metadata": {},
   "outputs": [
    {
     "name": "stdout",
     "output_type": "stream",
     "text": [
      "<class 'pandas.core.frame.DataFrame'>\n",
      "Int64Index: 4841 entries, 0 to 4841\n",
      "Data columns (total 13 columns):\n",
      " #   Column                Non-Null Count  Dtype  \n",
      "---  ------                --------------  -----  \n",
      " 0   fixed acidity         4841 non-null   float64\n",
      " 1   volatile acidity      4841 non-null   float64\n",
      " 2   citric acid           4841 non-null   float64\n",
      " 3   residual sugar        4841 non-null   float64\n",
      " 4   chlorides             4841 non-null   float64\n",
      " 5   free sulfur dioxide   4841 non-null   float64\n",
      " 6   total sulfur dioxide  4841 non-null   float64\n",
      " 7   water_cont            4841 non-null   float64\n",
      " 8   pH                    4841 non-null   float64\n",
      " 9   sulphates             4841 non-null   float64\n",
      " 10  alcohol               4841 non-null   float64\n",
      " 11  quality               4841 non-null   int64  \n",
      " 12  density               4841 non-null   int64  \n",
      "dtypes: float64(11), int64(2)\n",
      "memory usage: 529.5 KB\n"
     ]
    }
   ],
   "source": [
    "dataset.info()"
   ]
  },
  {
   "cell_type": "code",
   "execution_count": 19,
   "metadata": {},
   "outputs": [
    {
     "name": "stderr",
     "output_type": "stream",
     "text": [
      "/Users/albagomez/opt/anaconda3/envs/DataAnalytics/lib/python3.7/site-packages/seaborn/categorical.py:3714: UserWarning: The `factorplot` function has been renamed to `catplot`. The original name will be removed in a future release. Please update your code. Note that the default `kind` in `factorplot` (`'point'`) has changed `'strip'` in `catplot`.\n",
      "  warnings.warn(msg)\n",
      "/Users/albagomez/opt/anaconda3/envs/DataAnalytics/lib/python3.7/site-packages/seaborn/categorical.py:3720: UserWarning: The `size` parameter has been renamed to `height`; please update your code.\n",
      "  warnings.warn(msg, UserWarning)\n"
     ]
    },
    {
     "data": {
      "image/png": "[encoded data removed]",
      "text/plain": [
       "<Figure size 1260x504 with 1 Axes>"
      ]
     },
     "metadata": {
      "needs_background": "light"
     },
     "output_type": "display_data"
    }
   ],
   "source": [
    "sns.factorplot(data=dataset.drop(['density'], axis=1) , \n",
    "               kind='box' , size=7, aspect=2.5);\n",
    "plt.show()"
   ]
  },
  {
   "cell_type": "code",
   "execution_count": 20,
   "metadata": {},
   "outputs": [
    {
     "data": {
      "text/plain": [
       "count    4841.000000\n",
       "mean        0.540847\n",
       "std        14.353836\n",
       "min         0.000000\n",
       "25%         0.270000\n",
       "50%         0.320000\n",
       "75%         0.390000\n",
       "max       999.000000\n",
       "Name: citric acid, dtype: float64"
      ]
     },
     "execution_count": 20,
     "metadata": {},
     "output_type": "execute_result"
    }
   ],
   "source": [
    "dataset['citric acid'].describe()"
   ]
  },
  {
   "cell_type": "code",
   "execution_count": 21,
   "metadata": {},
   "outputs": [
    {
     "data": {
      "text/html": [
       "<div>\n",
       "<style scoped>\n",
       "    .dataframe tbody tr th:only-of-type {\n",
       "        vertical-align: middle;\n",
       "    }\n",
       "\n",
       "    .dataframe tbody tr th {\n",
       "        vertical-align: top;\n",
       "    }\n",
       "\n",
       "    .dataframe thead th {\n",
       "        text-align: right;\n",
       "    }\n",
       "</style>\n",
       "<table border=\"1\" class=\"dataframe\">\n",
       "  <thead>\n",
       "    <tr style=\"text-align: right;\">\n",
       "      <th></th>\n",
       "      <th>fixed acidity</th>\n",
       "      <th>volatile acidity</th>\n",
       "      <th>citric acid</th>\n",
       "      <th>residual sugar</th>\n",
       "      <th>chlorides</th>\n",
       "      <th>free sulfur dioxide</th>\n",
       "      <th>total sulfur dioxide</th>\n",
       "      <th>water_cont</th>\n",
       "      <th>pH</th>\n",
       "      <th>sulphates</th>\n",
       "      <th>alcohol</th>\n",
       "      <th>quality</th>\n",
       "      <th>density</th>\n",
       "    </tr>\n",
       "  </thead>\n",
       "  <tbody>\n",
       "    <tr>\n",
       "      <th>25</th>\n",
       "      <td>8.02</td>\n",
       "      <td>0.32</td>\n",
       "      <td>999.0</td>\n",
       "      <td>5.1</td>\n",
       "      <td>0.044</td>\n",
       "      <td>19.0</td>\n",
       "      <td>65.0</td>\n",
       "      <td>0.991</td>\n",
       "      <td>3.03</td>\n",
       "      <td>0.41</td>\n",
       "      <td>12.6</td>\n",
       "      <td>4</td>\n",
       "      <td>16</td>\n",
       "    </tr>\n",
       "  </tbody>\n",
       "</table>\n",
       "</div>"
      ],
      "text/plain": [
       "    fixed acidity  volatile acidity  citric acid  residual sugar  chlorides  \\\n",
       "25           8.02              0.32        999.0             5.1      0.044   \n",
       "\n",
       "    free sulfur dioxide  total sulfur dioxide  water_cont    pH  sulphates  \\\n",
       "25                 19.0                  65.0       0.991  3.03       0.41   \n",
       "\n",
       "    alcohol  quality  density  \n",
       "25     12.6        4       16  "
      ]
     },
     "execution_count": 21,
     "metadata": {},
     "output_type": "execute_result"
    }
   ],
   "source": [
    "# dataset['citric acid'].replace(999, dataset['citric acid'].mean(), inplace=True)\n",
    "dataset[dataset['citric acid'] == 999]"
   ]
  },
  {
   "cell_type": "code",
   "execution_count": 22,
   "metadata": {},
   "outputs": [],
   "source": [
    "dataset.drop(index=25, inplace=True)"
   ]
  },
  {
   "cell_type": "code",
   "execution_count": 23,
   "metadata": {},
   "outputs": [
    {
     "data": {
      "text/plain": [
       "count    4840.000000\n",
       "mean      138.392045\n",
       "std        44.220681\n",
       "min         9.000000\n",
       "25%       108.000000\n",
       "50%       134.000000\n",
       "75%       167.000000\n",
       "max       999.000000\n",
       "Name: total sulfur dioxide, dtype: float64"
      ]
     },
     "execution_count": 23,
     "metadata": {},
     "output_type": "execute_result"
    }
   ],
   "source": [
    "dataset['total sulfur dioxide'].describe()"
   ]
  },
  {
   "cell_type": "code",
   "execution_count": 24,
   "metadata": {},
   "outputs": [
    {
     "data": {
      "text/plain": [
       "<AxesSubplot:>"
      ]
     },
     "execution_count": 24,
     "metadata": {},
     "output_type": "execute_result"
    },
    {
     "data": {
      "image/png": "[encoded data removed]",
      "text/plain": [
       "<Figure size 432x288 with 1 Axes>"
      ]
     },
     "metadata": {
      "needs_background": "light"
     },
     "output_type": "display_data"
    }
   ],
   "source": [
    "dataset['total sulfur dioxide'].hist()"
   ]
  },
  {
   "cell_type": "code",
   "execution_count": 25,
   "metadata": {},
   "outputs": [
    {
     "data": {
      "text/html": [
       "<div>\n",
       "<style scoped>\n",
       "    .dataframe tbody tr th:only-of-type {\n",
       "        vertical-align: middle;\n",
       "    }\n",
       "\n",
       "    .dataframe tbody tr th {\n",
       "        vertical-align: top;\n",
       "    }\n",
       "\n",
       "    .dataframe thead th {\n",
       "        text-align: right;\n",
       "    }\n",
       "</style>\n",
       "<table border=\"1\" class=\"dataframe\">\n",
       "  <thead>\n",
       "    <tr style=\"text-align: right;\">\n",
       "      <th></th>\n",
       "      <th>fixed acidity</th>\n",
       "      <th>volatile acidity</th>\n",
       "      <th>citric acid</th>\n",
       "      <th>residual sugar</th>\n",
       "      <th>chlorides</th>\n",
       "      <th>free sulfur dioxide</th>\n",
       "      <th>total sulfur dioxide</th>\n",
       "      <th>water_cont</th>\n",
       "      <th>pH</th>\n",
       "      <th>sulphates</th>\n",
       "      <th>alcohol</th>\n",
       "      <th>quality</th>\n",
       "      <th>density</th>\n",
       "    </tr>\n",
       "  </thead>\n",
       "  <tbody>\n",
       "    <tr>\n",
       "      <th>32</th>\n",
       "      <td>7.02</td>\n",
       "      <td>0.36</td>\n",
       "      <td>0.38</td>\n",
       "      <td>0.9</td>\n",
       "      <td>0.037</td>\n",
       "      <td>3.0</td>\n",
       "      <td>999.0</td>\n",
       "      <td>0.9904</td>\n",
       "      <td>3.28</td>\n",
       "      <td>0.34</td>\n",
       "      <td>11.4</td>\n",
       "      <td>4</td>\n",
       "      <td>17</td>\n",
       "    </tr>\n",
       "  </tbody>\n",
       "</table>\n",
       "</div>"
      ],
      "text/plain": [
       "    fixed acidity  volatile acidity  citric acid  residual sugar  chlorides  \\\n",
       "32           7.02              0.36         0.38             0.9      0.037   \n",
       "\n",
       "    free sulfur dioxide  total sulfur dioxide  water_cont    pH  sulphates  \\\n",
       "32                  3.0                 999.0      0.9904  3.28       0.34   \n",
       "\n",
       "    alcohol  quality  density  \n",
       "32     11.4        4       17  "
      ]
     },
     "execution_count": 25,
     "metadata": {},
     "output_type": "execute_result"
    }
   ],
   "source": [
    "# dataset['total sulfur dioxide'].replace(999, dataset['total sulfur dioxide'].mean(), inplace=True)\n",
    "dataset[dataset['total sulfur dioxide'] == 999]"
   ]
  },
  {
   "cell_type": "code",
   "execution_count": 26,
   "metadata": {},
   "outputs": [],
   "source": [
    "dataset.drop(index=32, inplace=True)"
   ]
  },
  {
   "cell_type": "code",
   "execution_count": 27,
   "metadata": {},
   "outputs": [
    {
     "name": "stderr",
     "output_type": "stream",
     "text": [
      "/Users/albagomez/opt/anaconda3/envs/DataAnalytics/lib/python3.7/site-packages/seaborn/categorical.py:3714: UserWarning: The `factorplot` function has been renamed to `catplot`. The original name will be removed in a future release. Please update your code. Note that the default `kind` in `factorplot` (`'point'`) has changed `'strip'` in `catplot`.\n",
      "  warnings.warn(msg)\n",
      "/Users/albagomez/opt/anaconda3/envs/DataAnalytics/lib/python3.7/site-packages/seaborn/categorical.py:3720: UserWarning: The `size` parameter has been renamed to `height`; please update your code.\n",
      "  warnings.warn(msg, UserWarning)\n"
     ]
    },
    {
     "data": {
      "image/png": "[encoded data removed]",
      "text/plain": [
       "<Figure size 1260x504 with 1 Axes>"
      ]
     },
     "metadata": {
      "needs_background": "light"
     },
     "output_type": "display_data"
    }
   ],
   "source": [
    "sns.factorplot(data=dataset.drop(['density', 'total sulfur dioxide', 'free sulfur dioxide'], axis=1) , \n",
    "               kind='box' , size=7, aspect=2.5);\n",
    "plt.show()"
   ]
  },
  {
   "cell_type": "code",
   "execution_count": 28,
   "metadata": {},
   "outputs": [
    {
     "data": {
      "image/png": "[encoded data removed]",
      "text/plain": [
       "<Figure size 504x720 with 1 Axes>"
      ]
     },
     "metadata": {
      "needs_background": "light"
     },
     "output_type": "display_data"
    }
   ],
   "source": [
    "fig = plt.figure(figsize=(7,10))\n",
    "dataset.boxplot(column=['density'])\n",
    "plt.show()"
   ]
  },
  {
   "cell_type": "code",
   "execution_count": 29,
   "metadata": {},
   "outputs": [
    {
     "data": {
      "image/png": "[encoded data removed]",
      "text/plain": [
       "<Figure size 576x1440 with 2 Axes>"
      ]
     },
     "metadata": {
      "needs_background": "light"
     },
     "output_type": "display_data"
    }
   ],
   "source": [
    "# Let's do a final check to see which columns have the higher correlation with the score. \n",
    "plt.figure(figsize=(8, 20))\n",
    "\n",
    "heatmap = sns.heatmap(dataset.corr()[['density']].sort_values(by='density', ascending=False), \n",
    "                      vmin=-1, \n",
    "                      vmax=1, \n",
    "                      annot=True, \n",
    "                      cmap='BrBG')\n",
    "\n",
    "heatmap.set_title('density Correlation', fontdict={'fontsize':18}, pad=16);"
   ]
  },
  {
   "cell_type": "code",
   "execution_count": 30,
   "metadata": {},
   "outputs": [
    {
     "name": "stdout",
     "output_type": "stream",
     "text": [
      "<class 'pandas.core.frame.DataFrame'>\n",
      "Int64Index: 4839 entries, 0 to 4841\n",
      "Data columns (total 13 columns):\n",
      " #   Column                Non-Null Count  Dtype  \n",
      "---  ------                --------------  -----  \n",
      " 0   fixed acidity         4839 non-null   float64\n",
      " 1   volatile acidity      4839 non-null   float64\n",
      " 2   citric acid           4839 non-null   float64\n",
      " 3   residual sugar        4839 non-null   float64\n",
      " 4   chlorides             4839 non-null   float64\n",
      " 5   free sulfur dioxide   4839 non-null   float64\n",
      " 6   total sulfur dioxide  4839 non-null   float64\n",
      " 7   water_cont            4839 non-null   float64\n",
      " 8   pH                    4839 non-null   float64\n",
      " 9   sulphates             4839 non-null   float64\n",
      " 10  alcohol               4839 non-null   float64\n",
      " 11  quality               4839 non-null   int64  \n",
      " 12  density               4839 non-null   int64  \n",
      "dtypes: float64(11), int64(2)\n",
      "memory usage: 529.3 KB\n"
     ]
    }
   ],
   "source": [
    "dataset.info()"
   ]
  },
  {
   "cell_type": "code",
   "execution_count": 31,
   "metadata": {},
   "outputs": [],
   "source": [
    "dataset.reset_index(inplace=True, drop=True)"
   ]
  },
  {
   "cell_type": "markdown",
   "metadata": {},
   "source": [
    "## Linear regression with raw data"
   ]
  },
  {
   "cell_type": "code",
   "execution_count": 32,
   "metadata": {},
   "outputs": [],
   "source": [
    "y_linear = dataset['density']\n",
    "\n",
    "X_linear = dataset['quality']"
   ]
  },
  {
   "cell_type": "code",
   "execution_count": 33,
   "metadata": {},
   "outputs": [],
   "source": [
    "X_train_l, X_test_l, y_train_l, y_test_l = train_test_split(X_linear, y_linear,\n",
    "                                                    test_size = 0.33,\n",
    "                                                    random_state = 7)"
   ]
  },
  {
   "cell_type": "code",
   "execution_count": 34,
   "metadata": {},
   "outputs": [
    {
     "name": "stdout",
     "output_type": "stream",
     "text": [
      "Shape of the raw data (X): (4839,)\n",
      "Shape of the TARGET variable (y): (4839,)\n",
      "\n",
      "Shape of the Train data (X_train): (3242,)\n",
      "Shape of the Train data (y_train): (3242,)\n",
      "\n",
      "Shape of the Test data (X_test): (1597,)\n",
      "Shape of the TARGET Test data (y_test): (1597,)\n"
     ]
    }
   ],
   "source": [
    "print('Shape of the raw data (X): {}'.format (X_linear.shape))\n",
    "print('Shape of the TARGET variable (y): {}'.format (y_linear.shape))\n",
    "\n",
    "print('\\nShape of the Train data (X_train): {}'.format (X_train_l.shape))\n",
    "print('Shape of the Train data (y_train): {}'.format (y_train_l.shape))\n",
    "\n",
    "print('\\nShape of the Test data (X_test): {}'.format (X_test_l.shape))\n",
    "print('Shape of the TARGET Test data (y_test): {}'.format (y_test_l.shape))"
   ]
  },
  {
   "cell_type": "code",
   "execution_count": 35,
   "metadata": {},
   "outputs": [],
   "source": [
    "y_train_l =  np.array(y_train_l).reshape(-1, 1)  # values converts it into \n",
    "# a numpy array\n",
    "X_train_l = np.array(X_train_l).reshape(-1, 1) \n",
    "\n",
    "y_test_l =  np.array(y_test_l).reshape(-1, 1)  # values converts it into a \n",
    "#numpy array\n",
    "X_test_l = np.array(X_test_l).reshape(-1, 1) "
   ]
  },
  {
   "cell_type": "code",
   "execution_count": 36,
   "metadata": {},
   "outputs": [
    {
     "data": {
      "text/plain": [
       "LinearRegression()"
      ]
     },
     "execution_count": 36,
     "metadata": {},
     "output_type": "execute_result"
    }
   ],
   "source": [
    "# Instantiate the model\n",
    "linear_m = LinearRegression()\n",
    "\n",
    "# Train the model\n",
    "linear_m.fit(X_train_l, y_train_l)"
   ]
  },
  {
   "cell_type": "code",
   "execution_count": 37,
   "metadata": {},
   "outputs": [
    {
     "data": {
      "text/plain": [
       "array([[22.37368631],\n",
       "       [29.22407352],\n",
       "       [36.07446074],\n",
       "       ...,\n",
       "       [29.22407352],\n",
       "       [15.52329909],\n",
       "       [22.37368631]])"
      ]
     },
     "execution_count": 37,
     "metadata": {},
     "output_type": "execute_result"
    }
   ],
   "source": [
    "y_pred_l = linear_m.predict(X_test_l)\n",
    "y_pred_l"
   ]
  },
  {
   "cell_type": "code",
   "execution_count": 38,
   "metadata": {},
   "outputs": [
    {
     "name": "stdout",
     "output_type": "stream",
     "text": [
      "Accuracy = 0.9061684778458526\n"
     ]
    }
   ],
   "source": [
    "accuracy_l = linear_m.score(X_test_l, y_test_l)\n",
    "print('Accuracy = '+ str(accuracy_l))"
   ]
  },
  {
   "cell_type": "code",
   "execution_count": 39,
   "metadata": {},
   "outputs": [
    {
     "data": {
      "image/png": "[encoded data removed]",
      "text/plain": [
       "<Figure size 576x396 with 1 Axes>"
      ]
     },
     "metadata": {},
     "output_type": "display_data"
    }
   ],
   "source": [
    "plt.style.use('seaborn')\n",
    "plt.scatter(X_test_l, y_test_l, color = 'red', \n",
    "            marker = 'o', s = 35, alpha = 0.5,\n",
    "          label = 'Test data')\n",
    "\n",
    "plt.scatter(X_train_l, y_train_l, color = 'blue', \n",
    "            marker = '+', s = 35, alpha = 0.5,\n",
    "          label = 'Train data')\n",
    "#plt.plot(X_train, linear_m.predict(X_train), color = 'blue', label='Model Plot')\n",
    "\n",
    "plt.title('Predicted Values vs Real values')\n",
    "plt.xlabel('Real values')\n",
    "plt.ylabel('Predicted Values')\n",
    "plt.legend(loc = 'upper left')\n",
    "plt.show()"
   ]
  },
  {
   "cell_type": "code",
   "execution_count": 40,
   "metadata": {},
   "outputs": [
    {
     "name": "stdout",
     "output_type": "stream",
     "text": [
      "MAE: 1.6367041804397349\n",
      "MSE: 3.806848415040902\n",
      "RMSE: 1.951\n",
      "R2 Score: 0.9061684778458526\n"
     ]
    }
   ],
   "source": [
    "# TEST set\n",
    "MAE_l = metrics.mean_absolute_error(y_test_l, y_pred_l)\n",
    "MSE_l = metrics.mean_squared_error(y_test_l, y_pred_l)\n",
    "RMSE_l = np.sqrt(metrics.mean_squared_error(y_test_l, y_pred_l))\n",
    "R2_l = r2_score(y_test_l, y_pred_l)\n",
    "\n",
    "print('MAE:', MAE_l)\n",
    "print('MSE:', MSE_l)\n",
    "print('RMSE:', round(RMSE_l,3))\n",
    "print('R2 Score:', R2_l)"
   ]
  },
  {
   "cell_type": "markdown",
   "metadata": {},
   "source": [
    "## Multinear regression with raw data"
   ]
  },
  {
   "cell_type": "code",
   "execution_count": 41,
   "metadata": {},
   "outputs": [],
   "source": [
    "y_m = dataset['density']\n",
    "\n",
    "X_m = dataset.drop(columns='density', axis=1)"
   ]
  },
  {
   "cell_type": "code",
   "execution_count": 42,
   "metadata": {},
   "outputs": [
    {
     "data": {
      "text/html": [
       "<div>\n",
       "<style scoped>\n",
       "    .dataframe tbody tr th:only-of-type {\n",
       "        vertical-align: middle;\n",
       "    }\n",
       "\n",
       "    .dataframe tbody tr th {\n",
       "        vertical-align: top;\n",
       "    }\n",
       "\n",
       "    .dataframe thead th {\n",
       "        text-align: right;\n",
       "    }\n",
       "</style>\n",
       "<table border=\"1\" class=\"dataframe\">\n",
       "  <thead>\n",
       "    <tr style=\"text-align: right;\">\n",
       "      <th></th>\n",
       "      <th>fixed acidity</th>\n",
       "      <th>volatile acidity</th>\n",
       "      <th>citric acid</th>\n",
       "      <th>residual sugar</th>\n",
       "      <th>chlorides</th>\n",
       "      <th>free sulfur dioxide</th>\n",
       "      <th>total sulfur dioxide</th>\n",
       "      <th>water_cont</th>\n",
       "      <th>pH</th>\n",
       "      <th>sulphates</th>\n",
       "      <th>alcohol</th>\n",
       "      <th>quality</th>\n",
       "    </tr>\n",
       "  </thead>\n",
       "  <tbody>\n",
       "    <tr>\n",
       "      <th>0</th>\n",
       "      <td>7.02</td>\n",
       "      <td>0.26</td>\n",
       "      <td>0.21</td>\n",
       "      <td>16.2</td>\n",
       "      <td>0.074</td>\n",
       "      <td>41.0</td>\n",
       "      <td>197.0</td>\n",
       "      <td>0.9980</td>\n",
       "      <td>3.02</td>\n",
       "      <td>0.50</td>\n",
       "      <td>9.8</td>\n",
       "      <td>3</td>\n",
       "    </tr>\n",
       "    <tr>\n",
       "      <th>1</th>\n",
       "      <td>6.02</td>\n",
       "      <td>0.24</td>\n",
       "      <td>0.44</td>\n",
       "      <td>3.5</td>\n",
       "      <td>0.029</td>\n",
       "      <td>5.0</td>\n",
       "      <td>109.0</td>\n",
       "      <td>0.9913</td>\n",
       "      <td>3.53</td>\n",
       "      <td>0.43</td>\n",
       "      <td>11.7</td>\n",
       "      <td>3</td>\n",
       "    </tr>\n",
       "    <tr>\n",
       "      <th>2</th>\n",
       "      <td>7.02</td>\n",
       "      <td>0.59</td>\n",
       "      <td>0.38</td>\n",
       "      <td>1.6</td>\n",
       "      <td>0.066</td>\n",
       "      <td>34.0</td>\n",
       "      <td>182.0</td>\n",
       "      <td>0.9968</td>\n",
       "      <td>3.23</td>\n",
       "      <td>0.38</td>\n",
       "      <td>8.5</td>\n",
       "      <td>3</td>\n",
       "    </tr>\n",
       "    <tr>\n",
       "      <th>3</th>\n",
       "      <td>7.02</td>\n",
       "      <td>0.32</td>\n",
       "      <td>0.32</td>\n",
       "      <td>11.0</td>\n",
       "      <td>0.038</td>\n",
       "      <td>16.0</td>\n",
       "      <td>66.0</td>\n",
       "      <td>0.9937</td>\n",
       "      <td>3.24</td>\n",
       "      <td>0.40</td>\n",
       "      <td>11.5</td>\n",
       "      <td>3</td>\n",
       "    </tr>\n",
       "    <tr>\n",
       "      <th>4</th>\n",
       "      <td>6.02</td>\n",
       "      <td>0.39</td>\n",
       "      <td>0.40</td>\n",
       "      <td>4.6</td>\n",
       "      <td>0.022</td>\n",
       "      <td>5.0</td>\n",
       "      <td>19.0</td>\n",
       "      <td>0.9915</td>\n",
       "      <td>3.31</td>\n",
       "      <td>0.37</td>\n",
       "      <td>12.6</td>\n",
       "      <td>3</td>\n",
       "    </tr>\n",
       "  </tbody>\n",
       "</table>\n",
       "</div>"
      ],
      "text/plain": [
       "   fixed acidity  volatile acidity  citric acid  residual sugar  chlorides  \\\n",
       "0           7.02              0.26         0.21            16.2      0.074   \n",
       "1           6.02              0.24         0.44             3.5      0.029   \n",
       "2           7.02              0.59         0.38             1.6      0.066   \n",
       "3           7.02              0.32         0.32            11.0      0.038   \n",
       "4           6.02              0.39         0.40             4.6      0.022   \n",
       "\n",
       "   free sulfur dioxide  total sulfur dioxide  water_cont    pH  sulphates  \\\n",
       "0                 41.0                 197.0      0.9980  3.02       0.50   \n",
       "1                  5.0                 109.0      0.9913  3.53       0.43   \n",
       "2                 34.0                 182.0      0.9968  3.23       0.38   \n",
       "3                 16.0                  66.0      0.9937  3.24       0.40   \n",
       "4                  5.0                  19.0      0.9915  3.31       0.37   \n",
       "\n",
       "   alcohol  quality  \n",
       "0      9.8        3  \n",
       "1     11.7        3  \n",
       "2      8.5        3  \n",
       "3     11.5        3  \n",
       "4     12.6        3  "
      ]
     },
     "execution_count": 42,
     "metadata": {},
     "output_type": "execute_result"
    }
   ],
   "source": [
    "X_m.head()"
   ]
  },
  {
   "cell_type": "code",
   "execution_count": 43,
   "metadata": {},
   "outputs": [],
   "source": [
    "X_train_m, X_test_m, y_train_m, y_test_m = train_test_split(X_m, y_m, \n",
    "                                                    test_size = 0.33, \n",
    "                                                    random_state = 42)"
   ]
  },
  {
   "cell_type": "code",
   "execution_count": 44,
   "metadata": {},
   "outputs": [
    {
     "data": {
      "text/plain": [
       "LinearRegression()"
      ]
     },
     "execution_count": 44,
     "metadata": {},
     "output_type": "execute_result"
    }
   ],
   "source": [
    "regressor = LinearRegression()\n",
    "regressor.fit(X_train_m, y_train_m)"
   ]
  },
  {
   "cell_type": "code",
   "execution_count": 45,
   "metadata": {},
   "outputs": [
    {
     "data": {
      "text/plain": [
       "array([29.2813139 , 29.08979467, 35.29554476, ..., 22.09878936,\n",
       "       21.9693568 , 28.6034293 ])"
      ]
     },
     "execution_count": 45,
     "metadata": {},
     "output_type": "execute_result"
    }
   ],
   "source": [
    "y_pred_m = regressor.predict(X_test_m)\n",
    "y_pred_m"
   ]
  },
  {
   "cell_type": "code",
   "execution_count": 46,
   "metadata": {},
   "outputs": [
    {
     "data": {
      "text/plain": [
       "array([29.17446981, 35.82412154, 36.68345896, ..., 29.50608732,\n",
       "       29.90178145, 21.95012872])"
      ]
     },
     "execution_count": 46,
     "metadata": {},
     "output_type": "execute_result"
    }
   ],
   "source": [
    "y_pred_train_m = regressor.predict(X_train_m)\n",
    "y_pred_train_m"
   ]
  },
  {
   "cell_type": "code",
   "execution_count": 47,
   "metadata": {},
   "outputs": [
    {
     "data": {
      "text/plain": [
       "array([ 2.18928789e-01,  8.53092930e-02, -3.23338463e-02,  1.69105433e-02,\n",
       "       -3.41782090e+00, -1.69079217e-03,  1.33892475e-03, -8.65164938e+01,\n",
       "       -4.56045130e-02,  1.62863468e-01, -6.29670393e-02,  5.52917072e+00])"
      ]
     },
     "execution_count": 47,
     "metadata": {},
     "output_type": "execute_result"
    }
   ],
   "source": [
    "regressor.coef_"
   ]
  },
  {
   "cell_type": "code",
   "execution_count": 48,
   "metadata": {},
   "outputs": [
    {
     "name": "stdout",
     "output_type": "stream",
     "text": [
      "Accuracy = 0.895901318180836\n"
     ]
    }
   ],
   "source": [
    "accuracy_m = regressor.score(X_test_m, y_test_m)\n",
    "print('Accuracy = '+ str(accuracy_m))"
   ]
  },
  {
   "cell_type": "code",
   "execution_count": 49,
   "metadata": {},
   "outputs": [
    {
     "data": {
      "image/png": "[encoded data removed]",
      "text/plain": [
       "<Figure size 576x396 with 1 Axes>"
      ]
     },
     "metadata": {},
     "output_type": "display_data"
    }
   ],
   "source": [
    "plt.style.use('seaborn')\n",
    "\n",
    "y_pred1 = y_pred_m\n",
    "y_test1 = y_test_m\n",
    "y_pred_train1 = y_pred_train_m\n",
    "y_train1 = y_train_m\n",
    "\n",
    "plt.scatter(y_pred_m, y_test_m, color = 'mediumseagreen', marker = 'o', s = 35, alpha = 0.5,\n",
    "          label = 'Test data')\n",
    "\n",
    "plt.scatter(y_pred_train_m, y_train_m, color = 'darkslateblue', marker = 'o', s = 35, alpha = 0.5,\n",
    "          label = 'Train data')\n",
    "\n",
    "plt.title('Predicted Values vs Real values')\n",
    "plt.xlabel('Real values')\n",
    "plt.ylabel('Predicted Values')\n",
    "plt.legend(loc = 'upper left')\n",
    "plt.show()"
   ]
  },
  {
   "cell_type": "code",
   "execution_count": 50,
   "metadata": {},
   "outputs": [
    {
     "name": "stdout",
     "output_type": "stream",
     "text": [
      "MAE: 1.6039077236817543\n",
      "MSE: 4.307616171271434\n",
      "RMSE: 2.075\n",
      "R2 Score: 0.895901318180836\n"
     ]
    }
   ],
   "source": [
    "# TEST set\n",
    "MAE_l = metrics.mean_absolute_error(y_test_m, y_pred_m)\n",
    "MSE_l = metrics.mean_squared_error(y_test_m, y_pred_m)\n",
    "RMSE_l = np.sqrt(metrics.mean_squared_error(y_test_m, y_pred_m))\n",
    "R2_l = r2_score(y_test_m, y_pred_m)\n",
    "\n",
    "print('MAE:', MAE_l)\n",
    "print('MSE:', MSE_l)\n",
    "print('RMSE:', round(RMSE_l,3))\n",
    "print('R2 Score:', R2_l)"
   ]
  },
  {
   "cell_type": "code",
   "execution_count": 51,
   "metadata": {},
   "outputs": [],
   "source": [
    "# Exercise 2. What happens to the model if we transform the data? (MinMax Scaler, Standardize...)\n",
    "# Try to transform the raw data, repeat the model building and extract some conclusions "
   ]
  },
  {
   "cell_type": "markdown",
   "metadata": {},
   "source": [
    "# Scaling"
   ]
  },
  {
   "cell_type": "code",
   "execution_count": 52,
   "metadata": {},
   "outputs": [
    {
     "data": {
      "text/html": [
       "<div>\n",
       "<style scoped>\n",
       "    .dataframe tbody tr th:only-of-type {\n",
       "        vertical-align: middle;\n",
       "    }\n",
       "\n",
       "    .dataframe tbody tr th {\n",
       "        vertical-align: top;\n",
       "    }\n",
       "\n",
       "    .dataframe thead th {\n",
       "        text-align: right;\n",
       "    }\n",
       "</style>\n",
       "<table border=\"1\" class=\"dataframe\">\n",
       "  <thead>\n",
       "    <tr style=\"text-align: right;\">\n",
       "      <th></th>\n",
       "      <th>fixed acidity</th>\n",
       "      <th>volatile acidity</th>\n",
       "      <th>citric acid</th>\n",
       "      <th>residual sugar</th>\n",
       "      <th>chlorides</th>\n",
       "      <th>free sulfur dioxide</th>\n",
       "      <th>total sulfur dioxide</th>\n",
       "      <th>water_cont</th>\n",
       "      <th>pH</th>\n",
       "      <th>sulphates</th>\n",
       "      <th>alcohol</th>\n",
       "      <th>quality</th>\n",
       "      <th>density</th>\n",
       "    </tr>\n",
       "  </thead>\n",
       "  <tbody>\n",
       "    <tr>\n",
       "      <th>0</th>\n",
       "      <td>7.02</td>\n",
       "      <td>0.26</td>\n",
       "      <td>0.21</td>\n",
       "      <td>16.2</td>\n",
       "      <td>0.074</td>\n",
       "      <td>41.0</td>\n",
       "      <td>197.0</td>\n",
       "      <td>0.9980</td>\n",
       "      <td>3.02</td>\n",
       "      <td>0.50</td>\n",
       "      <td>9.8</td>\n",
       "      <td>3</td>\n",
       "      <td>10</td>\n",
       "    </tr>\n",
       "    <tr>\n",
       "      <th>1</th>\n",
       "      <td>6.02</td>\n",
       "      <td>0.24</td>\n",
       "      <td>0.44</td>\n",
       "      <td>3.5</td>\n",
       "      <td>0.029</td>\n",
       "      <td>5.0</td>\n",
       "      <td>109.0</td>\n",
       "      <td>0.9913</td>\n",
       "      <td>3.53</td>\n",
       "      <td>0.43</td>\n",
       "      <td>11.7</td>\n",
       "      <td>3</td>\n",
       "      <td>12</td>\n",
       "    </tr>\n",
       "    <tr>\n",
       "      <th>2</th>\n",
       "      <td>7.02</td>\n",
       "      <td>0.59</td>\n",
       "      <td>0.38</td>\n",
       "      <td>1.6</td>\n",
       "      <td>0.066</td>\n",
       "      <td>34.0</td>\n",
       "      <td>182.0</td>\n",
       "      <td>0.9968</td>\n",
       "      <td>3.23</td>\n",
       "      <td>0.38</td>\n",
       "      <td>8.5</td>\n",
       "      <td>3</td>\n",
       "      <td>14</td>\n",
       "    </tr>\n",
       "    <tr>\n",
       "      <th>3</th>\n",
       "      <td>7.02</td>\n",
       "      <td>0.32</td>\n",
       "      <td>0.32</td>\n",
       "      <td>11.0</td>\n",
       "      <td>0.038</td>\n",
       "      <td>16.0</td>\n",
       "      <td>66.0</td>\n",
       "      <td>0.9937</td>\n",
       "      <td>3.24</td>\n",
       "      <td>0.40</td>\n",
       "      <td>11.5</td>\n",
       "      <td>3</td>\n",
       "      <td>13</td>\n",
       "    </tr>\n",
       "    <tr>\n",
       "      <th>4</th>\n",
       "      <td>6.02</td>\n",
       "      <td>0.39</td>\n",
       "      <td>0.40</td>\n",
       "      <td>4.6</td>\n",
       "      <td>0.022</td>\n",
       "      <td>5.0</td>\n",
       "      <td>19.0</td>\n",
       "      <td>0.9915</td>\n",
       "      <td>3.31</td>\n",
       "      <td>0.37</td>\n",
       "      <td>12.6</td>\n",
       "      <td>3</td>\n",
       "      <td>11</td>\n",
       "    </tr>\n",
       "  </tbody>\n",
       "</table>\n",
       "</div>"
      ],
      "text/plain": [
       "   fixed acidity  volatile acidity  citric acid  residual sugar  chlorides  \\\n",
       "0           7.02              0.26         0.21            16.2      0.074   \n",
       "1           6.02              0.24         0.44             3.5      0.029   \n",
       "2           7.02              0.59         0.38             1.6      0.066   \n",
       "3           7.02              0.32         0.32            11.0      0.038   \n",
       "4           6.02              0.39         0.40             4.6      0.022   \n",
       "\n",
       "   free sulfur dioxide  total sulfur dioxide  water_cont    pH  sulphates  \\\n",
       "0                 41.0                 197.0      0.9980  3.02       0.50   \n",
       "1                  5.0                 109.0      0.9913  3.53       0.43   \n",
       "2                 34.0                 182.0      0.9968  3.23       0.38   \n",
       "3                 16.0                  66.0      0.9937  3.24       0.40   \n",
       "4                  5.0                  19.0      0.9915  3.31       0.37   \n",
       "\n",
       "   alcohol  quality  density  \n",
       "0      9.8        3       10  \n",
       "1     11.7        3       12  \n",
       "2      8.5        3       14  \n",
       "3     11.5        3       13  \n",
       "4     12.6        3       11  "
      ]
     },
     "execution_count": 52,
     "metadata": {},
     "output_type": "execute_result"
    }
   ],
   "source": [
    "dataset.head()"
   ]
  },
  {
   "cell_type": "code",
   "execution_count": 53,
   "metadata": {},
   "outputs": [
    {
     "data": {
      "text/plain": [
       "6    2178\n",
       "5    1428\n",
       "7     874\n",
       "8     174\n",
       "4     160\n",
       "3      20\n",
       "9       5\n",
       "Name: quality, dtype: int64"
      ]
     },
     "execution_count": 53,
     "metadata": {},
     "output_type": "execute_result"
    }
   ],
   "source": [
    "dataset[\"quality\"].value_counts()"
   ]
  },
  {
   "cell_type": "code",
   "execution_count": 54,
   "metadata": {},
   "outputs": [
    {
     "data": {
      "text/plain": [
       "55      1\n",
       "47      1\n",
       "14      1\n",
       "45      1\n",
       "49      1\n",
       "46      1\n",
       "10      2\n",
       "11      2\n",
       "13      4\n",
       "12      5\n",
       "42     30\n",
       "16     36\n",
       "18     38\n",
       "41     40\n",
       "17     43\n",
       "15     49\n",
       "37    127\n",
       "36    150\n",
       "35    156\n",
       "40    170\n",
       "38    176\n",
       "39    199\n",
       "22    269\n",
       "23    278\n",
       "24    286\n",
       "20    287\n",
       "31    301\n",
       "29    304\n",
       "21    307\n",
       "26    309\n",
       "28    312\n",
       "27    313\n",
       "32    319\n",
       "30    321\n",
       "Name: density, dtype: int64"
      ]
     },
     "execution_count": 54,
     "metadata": {},
     "output_type": "execute_result"
    }
   ],
   "source": [
    "dataset[\"density\"].value_counts().sort_values(ascending=True)"
   ]
  },
  {
   "cell_type": "code",
   "execution_count": 55,
   "metadata": {},
   "outputs": [
    {
     "name": "stdout",
     "output_type": "stream",
     "text": [
      "<class 'pandas.core.frame.DataFrame'>\n",
      "RangeIndex: 4839 entries, 0 to 4838\n",
      "Data columns (total 13 columns):\n",
      " #   Column                Non-Null Count  Dtype  \n",
      "---  ------                --------------  -----  \n",
      " 0   fixed acidity         4839 non-null   float64\n",
      " 1   volatile acidity      4839 non-null   float64\n",
      " 2   citric acid           4839 non-null   float64\n",
      " 3   residual sugar        4839 non-null   float64\n",
      " 4   chlorides             4839 non-null   float64\n",
      " 5   free sulfur dioxide   4839 non-null   float64\n",
      " 6   total sulfur dioxide  4839 non-null   float64\n",
      " 7   water_cont            4839 non-null   float64\n",
      " 8   pH                    4839 non-null   float64\n",
      " 9   sulphates             4839 non-null   float64\n",
      " 10  alcohol               4839 non-null   float64\n",
      " 11  quality               4839 non-null   int64  \n",
      " 12  density               4839 non-null   int64  \n",
      "dtypes: float64(11), int64(2)\n",
      "memory usage: 491.6 KB\n"
     ]
    }
   ],
   "source": [
    "dataset.info()"
   ]
  },
  {
   "cell_type": "code",
   "execution_count": 56,
   "metadata": {},
   "outputs": [],
   "source": [
    "data = dataset.copy()"
   ]
  },
  {
   "cell_type": "code",
   "execution_count": 57,
   "metadata": {},
   "outputs": [
    {
     "name": "stdout",
     "output_type": "stream",
     "text": [
      "<class 'pandas.core.frame.DataFrame'>\n",
      "RangeIndex: 4839 entries, 0 to 4838\n",
      "Data columns (total 13 columns):\n",
      " #   Column                Non-Null Count  Dtype  \n",
      "---  ------                --------------  -----  \n",
      " 0   fixed acidity         4839 non-null   float64\n",
      " 1   volatile acidity      4839 non-null   float64\n",
      " 2   citric acid           4839 non-null   float64\n",
      " 3   residual sugar        4839 non-null   float64\n",
      " 4   chlorides             4839 non-null   float64\n",
      " 5   free sulfur dioxide   4839 non-null   float64\n",
      " 6   total sulfur dioxide  4839 non-null   float64\n",
      " 7   water_cont            4839 non-null   float64\n",
      " 8   pH                    4839 non-null   float64\n",
      " 9   sulphates             4839 non-null   float64\n",
      " 10  alcohol               4839 non-null   float64\n",
      " 11  quality               4839 non-null   int64  \n",
      " 12  density               4839 non-null   int64  \n",
      "dtypes: float64(11), int64(2)\n",
      "memory usage: 491.6 KB\n"
     ]
    }
   ],
   "source": [
    "data.info()"
   ]
  },
  {
   "cell_type": "code",
   "execution_count": 58,
   "metadata": {},
   "outputs": [
    {
     "data": {
      "text/html": [
       "<div>\n",
       "<style scoped>\n",
       "    .dataframe tbody tr th:only-of-type {\n",
       "        vertical-align: middle;\n",
       "    }\n",
       "\n",
       "    .dataframe tbody tr th {\n",
       "        vertical-align: top;\n",
       "    }\n",
       "\n",
       "    .dataframe thead th {\n",
       "        text-align: right;\n",
       "    }\n",
       "</style>\n",
       "<table border=\"1\" class=\"dataframe\">\n",
       "  <thead>\n",
       "    <tr style=\"text-align: right;\">\n",
       "      <th></th>\n",
       "      <th>fixed acidity</th>\n",
       "      <th>volatile acidity</th>\n",
       "      <th>citric acid</th>\n",
       "      <th>residual sugar</th>\n",
       "      <th>chlorides</th>\n",
       "      <th>free sulfur dioxide</th>\n",
       "      <th>total sulfur dioxide</th>\n",
       "      <th>water_cont</th>\n",
       "      <th>pH</th>\n",
       "      <th>sulphates</th>\n",
       "      <th>alcohol</th>\n",
       "      <th>quality</th>\n",
       "      <th>density</th>\n",
       "    </tr>\n",
       "  </thead>\n",
       "  <tbody>\n",
       "    <tr>\n",
       "      <th>0</th>\n",
       "      <td>7.02</td>\n",
       "      <td>0.26</td>\n",
       "      <td>0.21</td>\n",
       "      <td>16.2</td>\n",
       "      <td>0.074</td>\n",
       "      <td>41.0</td>\n",
       "      <td>197.0</td>\n",
       "      <td>0.9980</td>\n",
       "      <td>3.02</td>\n",
       "      <td>0.50</td>\n",
       "      <td>9.8</td>\n",
       "      <td>0</td>\n",
       "      <td>10</td>\n",
       "    </tr>\n",
       "    <tr>\n",
       "      <th>1</th>\n",
       "      <td>6.02</td>\n",
       "      <td>0.24</td>\n",
       "      <td>0.44</td>\n",
       "      <td>3.5</td>\n",
       "      <td>0.029</td>\n",
       "      <td>5.0</td>\n",
       "      <td>109.0</td>\n",
       "      <td>0.9913</td>\n",
       "      <td>3.53</td>\n",
       "      <td>0.43</td>\n",
       "      <td>11.7</td>\n",
       "      <td>0</td>\n",
       "      <td>12</td>\n",
       "    </tr>\n",
       "    <tr>\n",
       "      <th>2</th>\n",
       "      <td>7.02</td>\n",
       "      <td>0.59</td>\n",
       "      <td>0.38</td>\n",
       "      <td>1.6</td>\n",
       "      <td>0.066</td>\n",
       "      <td>34.0</td>\n",
       "      <td>182.0</td>\n",
       "      <td>0.9968</td>\n",
       "      <td>3.23</td>\n",
       "      <td>0.38</td>\n",
       "      <td>8.5</td>\n",
       "      <td>0</td>\n",
       "      <td>14</td>\n",
       "    </tr>\n",
       "    <tr>\n",
       "      <th>3</th>\n",
       "      <td>7.02</td>\n",
       "      <td>0.32</td>\n",
       "      <td>0.32</td>\n",
       "      <td>11.0</td>\n",
       "      <td>0.038</td>\n",
       "      <td>16.0</td>\n",
       "      <td>66.0</td>\n",
       "      <td>0.9937</td>\n",
       "      <td>3.24</td>\n",
       "      <td>0.40</td>\n",
       "      <td>11.5</td>\n",
       "      <td>0</td>\n",
       "      <td>13</td>\n",
       "    </tr>\n",
       "    <tr>\n",
       "      <th>4</th>\n",
       "      <td>6.02</td>\n",
       "      <td>0.39</td>\n",
       "      <td>0.40</td>\n",
       "      <td>4.6</td>\n",
       "      <td>0.022</td>\n",
       "      <td>5.0</td>\n",
       "      <td>19.0</td>\n",
       "      <td>0.9915</td>\n",
       "      <td>3.31</td>\n",
       "      <td>0.37</td>\n",
       "      <td>12.6</td>\n",
       "      <td>0</td>\n",
       "      <td>11</td>\n",
       "    </tr>\n",
       "  </tbody>\n",
       "</table>\n",
       "</div>"
      ],
      "text/plain": [
       "   fixed acidity  volatile acidity  citric acid  residual sugar  chlorides  \\\n",
       "0           7.02              0.26         0.21            16.2      0.074   \n",
       "1           6.02              0.24         0.44             3.5      0.029   \n",
       "2           7.02              0.59         0.38             1.6      0.066   \n",
       "3           7.02              0.32         0.32            11.0      0.038   \n",
       "4           6.02              0.39         0.40             4.6      0.022   \n",
       "\n",
       "   free sulfur dioxide  total sulfur dioxide  water_cont    pH  sulphates  \\\n",
       "0                 41.0                 197.0      0.9980  3.02       0.50   \n",
       "1                  5.0                 109.0      0.9913  3.53       0.43   \n",
       "2                 34.0                 182.0      0.9968  3.23       0.38   \n",
       "3                 16.0                  66.0      0.9937  3.24       0.40   \n",
       "4                  5.0                  19.0      0.9915  3.31       0.37   \n",
       "\n",
       "   alcohol  quality  density  \n",
       "0      9.8        0       10  \n",
       "1     11.7        0       12  \n",
       "2      8.5        0       14  \n",
       "3     11.5        0       13  \n",
       "4     12.6        0       11  "
      ]
     },
     "execution_count": 58,
     "metadata": {},
     "output_type": "execute_result"
    }
   ],
   "source": [
    "# Step 1. Instantiate the model (label encoding)\n",
    "lb_make = LabelEncoder() \n",
    "\n",
    "# Step 2. Fit the variable to the instatiated model\n",
    "data['quality'] = lb_make.fit_transform(data['quality'])\n",
    "\n",
    "data.head() #Results in appending a new column to df"
   ]
  },
  {
   "cell_type": "markdown",
   "metadata": {},
   "source": [
    "## Robust Scaler"
   ]
  },
  {
   "cell_type": "code",
   "execution_count": 59,
   "metadata": {},
   "outputs": [],
   "source": [
    "# Initialise the Scaler \n",
    "scaler = RobustScaler() \n",
    "scaler\n",
    "# Scale data \n",
    "data2 = data.drop(columns = [\"quality\"])\n",
    "dfname = data2.columns\n",
    "data_Rscaled = scaler.fit_transform(data2)\n",
    "data_Rscaled\n",
    "data_Rscaled = pd.DataFrame(data_Rscaled, columns=dfname)"
   ]
  },
  {
   "cell_type": "code",
   "execution_count": 60,
   "metadata": {},
   "outputs": [
    {
     "name": "stdout",
     "output_type": "stream",
     "text": [
      "<class 'pandas.core.frame.DataFrame'>\n",
      "RangeIndex: 4839 entries, 0 to 4838\n",
      "Data columns (total 12 columns):\n",
      " #   Column                Non-Null Count  Dtype  \n",
      "---  ------                --------------  -----  \n",
      " 0   fixed acidity         4839 non-null   float64\n",
      " 1   volatile acidity      4839 non-null   float64\n",
      " 2   citric acid           4839 non-null   float64\n",
      " 3   residual sugar        4839 non-null   float64\n",
      " 4   chlorides             4839 non-null   float64\n",
      " 5   free sulfur dioxide   4839 non-null   float64\n",
      " 6   total sulfur dioxide  4839 non-null   float64\n",
      " 7   water_cont            4839 non-null   float64\n",
      " 8   pH                    4839 non-null   float64\n",
      " 9   sulphates             4839 non-null   float64\n",
      " 10  alcohol               4839 non-null   float64\n",
      " 11  density               4839 non-null   float64\n",
      "dtypes: float64(12)\n",
      "memory usage: 453.8 KB\n"
     ]
    }
   ],
   "source": [
    "data_Rscaled.info()"
   ]
  },
  {
   "cell_type": "code",
   "execution_count": 61,
   "metadata": {},
   "outputs": [
    {
     "name": "stdout",
     "output_type": "stream",
     "text": [
      "<class 'pandas.core.frame.DataFrame'>\n",
      "RangeIndex: 4839 entries, 0 to 4838\n",
      "Data columns (total 13 columns):\n",
      " #   Column                Non-Null Count  Dtype  \n",
      "---  ------                --------------  -----  \n",
      " 0   fixed acidity         4839 non-null   float64\n",
      " 1   volatile acidity      4839 non-null   float64\n",
      " 2   citric acid           4839 non-null   float64\n",
      " 3   residual sugar        4839 non-null   float64\n",
      " 4   chlorides             4839 non-null   float64\n",
      " 5   free sulfur dioxide   4839 non-null   float64\n",
      " 6   total sulfur dioxide  4839 non-null   float64\n",
      " 7   water_cont            4839 non-null   float64\n",
      " 8   pH                    4839 non-null   float64\n",
      " 9   sulphates             4839 non-null   float64\n",
      " 10  alcohol               4839 non-null   float64\n",
      " 11  quality               4839 non-null   int64  \n",
      " 12  density               4839 non-null   int64  \n",
      "dtypes: float64(11), int64(2)\n",
      "memory usage: 491.6 KB\n"
     ]
    }
   ],
   "source": [
    "data.info()"
   ]
  },
  {
   "cell_type": "code",
   "execution_count": 62,
   "metadata": {},
   "outputs": [
    {
     "data": {
      "text/html": [
       "<div>\n",
       "<style scoped>\n",
       "    .dataframe tbody tr th:only-of-type {\n",
       "        vertical-align: middle;\n",
       "    }\n",
       "\n",
       "    .dataframe tbody tr th {\n",
       "        vertical-align: top;\n",
       "    }\n",
       "\n",
       "    .dataframe thead th {\n",
       "        text-align: right;\n",
       "    }\n",
       "</style>\n",
       "<table border=\"1\" class=\"dataframe\">\n",
       "  <thead>\n",
       "    <tr style=\"text-align: right;\">\n",
       "      <th></th>\n",
       "      <th>fixed acidity</th>\n",
       "      <th>volatile acidity</th>\n",
       "      <th>citric acid</th>\n",
       "      <th>residual sugar</th>\n",
       "      <th>chlorides</th>\n",
       "      <th>free sulfur dioxide</th>\n",
       "      <th>total sulfur dioxide</th>\n",
       "      <th>water_cont</th>\n",
       "      <th>pH</th>\n",
       "      <th>sulphates</th>\n",
       "      <th>alcohol</th>\n",
       "      <th>density</th>\n",
       "      <th>quality</th>\n",
       "    </tr>\n",
       "  </thead>\n",
       "  <tbody>\n",
       "    <tr>\n",
       "      <th>0</th>\n",
       "      <td>-1.000000</td>\n",
       "      <td>0.000000</td>\n",
       "      <td>-0.916667</td>\n",
       "      <td>1.370370</td>\n",
       "      <td>2.214286</td>\n",
       "      <td>0.304348</td>\n",
       "      <td>1.067797</td>\n",
       "      <td>0.978385</td>\n",
       "      <td>-0.842105</td>\n",
       "      <td>0.214286</td>\n",
       "      <td>-0.315789</td>\n",
       "      <td>-2.000000</td>\n",
       "      <td>0</td>\n",
       "    </tr>\n",
       "    <tr>\n",
       "      <th>1</th>\n",
       "      <td>-1.111111</td>\n",
       "      <td>-0.181818</td>\n",
       "      <td>1.000000</td>\n",
       "      <td>-0.197531</td>\n",
       "      <td>-1.000000</td>\n",
       "      <td>-1.260870</td>\n",
       "      <td>-0.423729</td>\n",
       "      <td>-0.546075</td>\n",
       "      <td>1.842105</td>\n",
       "      <td>-0.285714</td>\n",
       "      <td>0.684211</td>\n",
       "      <td>-1.777778</td>\n",
       "      <td>0</td>\n",
       "    </tr>\n",
       "    <tr>\n",
       "      <th>2</th>\n",
       "      <td>-1.000000</td>\n",
       "      <td>3.000000</td>\n",
       "      <td>0.500000</td>\n",
       "      <td>-0.432099</td>\n",
       "      <td>1.642857</td>\n",
       "      <td>0.000000</td>\n",
       "      <td>0.813559</td>\n",
       "      <td>0.705347</td>\n",
       "      <td>0.263158</td>\n",
       "      <td>-0.642857</td>\n",
       "      <td>-1.000000</td>\n",
       "      <td>-1.555556</td>\n",
       "      <td>0</td>\n",
       "    </tr>\n",
       "    <tr>\n",
       "      <th>3</th>\n",
       "      <td>-1.000000</td>\n",
       "      <td>0.545455</td>\n",
       "      <td>0.000000</td>\n",
       "      <td>0.728395</td>\n",
       "      <td>-0.357143</td>\n",
       "      <td>-0.782609</td>\n",
       "      <td>-1.152542</td>\n",
       "      <td>0.000000</td>\n",
       "      <td>0.315789</td>\n",
       "      <td>-0.500000</td>\n",
       "      <td>0.578947</td>\n",
       "      <td>-1.666667</td>\n",
       "      <td>0</td>\n",
       "    </tr>\n",
       "    <tr>\n",
       "      <th>4</th>\n",
       "      <td>-1.111111</td>\n",
       "      <td>1.181818</td>\n",
       "      <td>0.666667</td>\n",
       "      <td>-0.061728</td>\n",
       "      <td>-1.500000</td>\n",
       "      <td>-1.260870</td>\n",
       "      <td>-1.949153</td>\n",
       "      <td>-0.500569</td>\n",
       "      <td>0.684211</td>\n",
       "      <td>-0.714286</td>\n",
       "      <td>1.157895</td>\n",
       "      <td>-1.888889</td>\n",
       "      <td>0</td>\n",
       "    </tr>\n",
       "  </tbody>\n",
       "</table>\n",
       "</div>"
      ],
      "text/plain": [
       "   fixed acidity  volatile acidity  citric acid  residual sugar  chlorides  \\\n",
       "0      -1.000000          0.000000    -0.916667        1.370370   2.214286   \n",
       "1      -1.111111         -0.181818     1.000000       -0.197531  -1.000000   \n",
       "2      -1.000000          3.000000     0.500000       -0.432099   1.642857   \n",
       "3      -1.000000          0.545455     0.000000        0.728395  -0.357143   \n",
       "4      -1.111111          1.181818     0.666667       -0.061728  -1.500000   \n",
       "\n",
       "   free sulfur dioxide  total sulfur dioxide  water_cont        pH  sulphates  \\\n",
       "0             0.304348              1.067797    0.978385 -0.842105   0.214286   \n",
       "1            -1.260870             -0.423729   -0.546075  1.842105  -0.285714   \n",
       "2             0.000000              0.813559    0.705347  0.263158  -0.642857   \n",
       "3            -0.782609             -1.152542    0.000000  0.315789  -0.500000   \n",
       "4            -1.260870             -1.949153   -0.500569  0.684211  -0.714286   \n",
       "\n",
       "    alcohol   density  quality  \n",
       "0 -0.315789 -2.000000        0  \n",
       "1  0.684211 -1.777778        0  \n",
       "2 -1.000000 -1.555556        0  \n",
       "3  0.578947 -1.666667        0  \n",
       "4  1.157895 -1.888889        0  "
      ]
     },
     "execution_count": 62,
     "metadata": {},
     "output_type": "execute_result"
    }
   ],
   "source": [
    "data_scaled = pd.concat([data_Rscaled, data[['quality']]], axis=1)\n",
    "data_scaled.head()"
   ]
  },
  {
   "cell_type": "code",
   "execution_count": 63,
   "metadata": {},
   "outputs": [
    {
     "name": "stdout",
     "output_type": "stream",
     "text": [
      "<class 'pandas.core.frame.DataFrame'>\n",
      "RangeIndex: 4839 entries, 0 to 4838\n",
      "Data columns (total 13 columns):\n",
      " #   Column                Non-Null Count  Dtype  \n",
      "---  ------                --------------  -----  \n",
      " 0   fixed acidity         4839 non-null   float64\n",
      " 1   volatile acidity      4839 non-null   float64\n",
      " 2   citric acid           4839 non-null   float64\n",
      " 3   residual sugar        4839 non-null   float64\n",
      " 4   chlorides             4839 non-null   float64\n",
      " 5   free sulfur dioxide   4839 non-null   float64\n",
      " 6   total sulfur dioxide  4839 non-null   float64\n",
      " 7   water_cont            4839 non-null   float64\n",
      " 8   pH                    4839 non-null   float64\n",
      " 9   sulphates             4839 non-null   float64\n",
      " 10  alcohol               4839 non-null   float64\n",
      " 11  density               4839 non-null   float64\n",
      " 12  quality               4839 non-null   int64  \n",
      "dtypes: float64(12), int64(1)\n",
      "memory usage: 491.6 KB\n"
     ]
    }
   ],
   "source": [
    "data_scaled.info()"
   ]
  },
  {
   "cell_type": "markdown",
   "metadata": {},
   "source": [
    "## Linear Regression with scaled data"
   ]
  },
  {
   "cell_type": "code",
   "execution_count": 64,
   "metadata": {},
   "outputs": [
    {
     "name": "stdout",
     "output_type": "stream",
     "text": [
      "<class 'pandas.core.frame.DataFrame'>\n",
      "RangeIndex: 4839 entries, 0 to 4838\n",
      "Data columns (total 13 columns):\n",
      " #   Column                Non-Null Count  Dtype  \n",
      "---  ------                --------------  -----  \n",
      " 0   fixed acidity         4839 non-null   float64\n",
      " 1   volatile acidity      4839 non-null   float64\n",
      " 2   citric acid           4839 non-null   float64\n",
      " 3   residual sugar        4839 non-null   float64\n",
      " 4   chlorides             4839 non-null   float64\n",
      " 5   free sulfur dioxide   4839 non-null   float64\n",
      " 6   total sulfur dioxide  4839 non-null   float64\n",
      " 7   water_cont            4839 non-null   float64\n",
      " 8   pH                    4839 non-null   float64\n",
      " 9   sulphates             4839 non-null   float64\n",
      " 10  alcohol               4839 non-null   float64\n",
      " 11  density               4839 non-null   float64\n",
      " 12  quality               4839 non-null   int64  \n",
      "dtypes: float64(12), int64(1)\n",
      "memory usage: 491.6 KB\n"
     ]
    }
   ],
   "source": [
    "data_scaled.info()"
   ]
  },
  {
   "cell_type": "code",
   "execution_count": 65,
   "metadata": {},
   "outputs": [],
   "source": [
    "y = data_scaled['density']\n",
    "\n",
    "X = data_scaled['quality']"
   ]
  },
  {
   "cell_type": "code",
   "execution_count": 66,
   "metadata": {},
   "outputs": [],
   "source": [
    "X_train, X_test, y_train, y_test = train_test_split(X, y,\n",
    "                                                    test_size = 0.33,\n",
    "                                                    random_state = 7)"
   ]
  },
  {
   "cell_type": "code",
   "execution_count": 67,
   "metadata": {},
   "outputs": [
    {
     "name": "stdout",
     "output_type": "stream",
     "text": [
      "Shape of the raw data (X): (4839,)\n",
      "Shape of the TARGET variable (y): (4839,)\n",
      "\n",
      "Shape of the Train data (X_train): (3242,)\n",
      "Shape of the Train data (y_train): (3242,)\n",
      "\n",
      "Shape of the Test data (X_test): (1597,)\n",
      "Shape of the TARGET Test data (y_test): (1597,)\n"
     ]
    }
   ],
   "source": [
    "print('Shape of the raw data (X): {}'.format (X.shape))\n",
    "print('Shape of the TARGET variable (y): {}'.format (y.shape))\n",
    "\n",
    "print('\\nShape of the Train data (X_train): {}'.format (X_train.shape))\n",
    "print('Shape of the Train data (y_train): {}'.format (y_train.shape))\n",
    "\n",
    "print('\\nShape of the Test data (X_test): {}'.format (X_test.shape))\n",
    "print('Shape of the TARGET Test data (y_test): {}'.format (y_test.shape))"
   ]
  },
  {
   "cell_type": "code",
   "execution_count": 68,
   "metadata": {},
   "outputs": [],
   "source": [
    "y_train =  np.array(y_train).reshape(-1, 1)  # values converts it into \n",
    "# a numpy array\n",
    "X_train = np.array(X_train).reshape(-1, 1) \n",
    "\n",
    "y_test =  np.array(y_test).reshape(-1, 1)  # values converts it into a \n",
    "#numpy array\n",
    "X_test = np.array(X_test).reshape(-1, 1) "
   ]
  },
  {
   "cell_type": "code",
   "execution_count": 69,
   "metadata": {},
   "outputs": [
    {
     "data": {
      "text/plain": [
       "array([[6],\n",
       "       [3],\n",
       "       [3],\n",
       "       ...,\n",
       "       [2],\n",
       "       [2],\n",
       "       [4]])"
      ]
     },
     "execution_count": 69,
     "metadata": {},
     "output_type": "execute_result"
    }
   ],
   "source": [
    "X_train"
   ]
  },
  {
   "cell_type": "code",
   "execution_count": 70,
   "metadata": {},
   "outputs": [
    {
     "data": {
      "text/plain": [
       "LinearRegression()"
      ]
     },
     "execution_count": 70,
     "metadata": {},
     "output_type": "execute_result"
    }
   ],
   "source": [
    "# Instantiate the model\n",
    "linear_m = LinearRegression()\n",
    "\n",
    "# Train the model\n",
    "linear_m.fit(X_train, y_train)"
   ]
  },
  {
   "cell_type": "code",
   "execution_count": 71,
   "metadata": {},
   "outputs": [
    {
     "data": {
      "text/plain": [
       "array([[-0.62514597],\n",
       "       [ 0.13600817],\n",
       "       [ 0.8971623 ],\n",
       "       ...,\n",
       "       [ 0.13600817],\n",
       "       [-1.3863001 ],\n",
       "       [-0.62514597]])"
      ]
     },
     "execution_count": 71,
     "metadata": {},
     "output_type": "execute_result"
    }
   ],
   "source": [
    "y_pred = linear_m.predict(X_test)\n",
    "y_pred"
   ]
  },
  {
   "cell_type": "code",
   "execution_count": 72,
   "metadata": {},
   "outputs": [
    {
     "name": "stdout",
     "output_type": "stream",
     "text": [
      "Accuracy = 0.9061684778458527\n"
     ]
    }
   ],
   "source": [
    "accuracy = linear_m.score(X_test, y_test)\n",
    "print('Accuracy = '+ str(accuracy))"
   ]
  },
  {
   "cell_type": "code",
   "execution_count": 73,
   "metadata": {},
   "outputs": [
    {
     "data": {
      "image/png": "[encoded data removed]",
      "text/plain": [
       "<Figure size 576x396 with 1 Axes>"
      ]
     },
     "metadata": {},
     "output_type": "display_data"
    }
   ],
   "source": [
    "plt.style.use('seaborn')\n",
    "plt.scatter(X_test, y_test, color = 'red', \n",
    "            marker = 'o', s = 35, alpha = 0.5,\n",
    "          label = 'Test data')\n",
    "\n",
    "plt.scatter(X_train, y_train, color = 'blue', \n",
    "            marker = '+', s = 35, alpha = 0.5,\n",
    "          label = 'Train data')\n",
    "#plt.plot(X_train, linear_m.predict(X_train), color = 'blue', label='Model Plot')\n",
    "\n",
    "plt.title('Predicted Values vs Real values')\n",
    "plt.xlabel('Real values')\n",
    "plt.ylabel('Predicted Values')\n",
    "plt.legend(loc = 'upper left')\n",
    "plt.show()"
   ]
  },
  {
   "cell_type": "code",
   "execution_count": 74,
   "metadata": {},
   "outputs": [
    {
     "name": "stdout",
     "output_type": "stream",
     "text": [
      "MAE: 0.18185602004885942\n",
      "MSE: 0.04699812858075184\n",
      "RMSE: 0.217\n",
      "R2 Score: 0.9061684778458527\n"
     ]
    }
   ],
   "source": [
    "# TEST set\n",
    "MAE_l = metrics.mean_absolute_error(y_test, y_pred)\n",
    "MSE_l = metrics.mean_squared_error(y_test, y_pred)\n",
    "RMSE_l = np.sqrt(metrics.mean_squared_error(y_test, y_pred))\n",
    "R2_l = r2_score(y_test, y_pred)\n",
    "\n",
    "print('MAE:', MAE_l)\n",
    "print('MSE:', MSE_l)\n",
    "print('RMSE:', round(RMSE_l,3))\n",
    "print('R2 Score:', R2_l)"
   ]
  },
  {
   "cell_type": "code",
   "execution_count": 75,
   "metadata": {},
   "outputs": [
    {
     "name": "stdout",
     "output_type": "stream",
     "text": [
      "Cross Validation R2_score: [0.8  0.82 0.89 0.9  0.91 0.91 0.91 0.9  0.9  0.9 ]\n"
     ]
    }
   ],
   "source": [
    "from sklearn.model_selection import cross_val_score\n",
    "import math\n",
    "\n",
    "cv_reg_model = LinearRegression() #Let's initialize the method \n",
    "\n",
    "cv_scores = cross_val_score(cv_reg_model, X_train, y_train,\n",
    "                            cv=10, scoring='r2') # Let's define the cv and \n",
    "\n",
    "print('Cross Validation R2_score: {}'.format(cv_scores.round(2)))\n",
    "\n",
    "#cv_scores = np.mean(cv_scores).round(3)\n",
    "#print(\"\\nAverage 10-Fold CV R2_score: {}\".format(cv_scores))"
   ]
  },
  {
   "cell_type": "code",
   "execution_count": 76,
   "metadata": {},
   "outputs": [
    {
     "name": "stdout",
     "output_type": "stream",
     "text": [
      "\n",
      " TRAIN metrics\n",
      "\n",
      "MAE: 0.188\n",
      "MSE: 0.059\n",
      "RMSE: 0.243\n",
      "R2 Score: 0.885\n",
      "\n",
      " CV- TRAIN metrics\n",
      "\n",
      "R2 Score: [0.80489443 0.81551988 0.89452784 0.90226552 0.91091896 0.90899123\n",
      " 0.91111366 0.90192701 0.90303204 0.89941116]\n",
      "\n",
      "Average 10-Fold CV R2_score: 0.885\n",
      "\n",
      " TEST metrics\n",
      "\n",
      "MAE: 0.182\n",
      "MSE: 0.047\n",
      "RMSE: 0.217\n",
      "R2 Score: 0.906\n"
     ]
    }
   ],
   "source": [
    "# Let's calculate the metrics with our TRAIN dataset\n",
    "y_predTrain = linear_m.predict(X_train)\n",
    "\n",
    "MAE_lTrain = metrics.mean_absolute_error(y_train, y_predTrain)\n",
    "MSE_lTrain = metrics.mean_squared_error(y_train,y_predTrain)\n",
    "RMSE_lTrain = np.sqrt(metrics.mean_squared_error(y_train, y_predTrain))\n",
    "R2_lTrain = r2_score(y_train, y_predTrain)\n",
    "\n",
    "print('\\n TRAIN metrics\\n')\n",
    "print('MAE:', round(MAE_lTrain,3))\n",
    "print('MSE:', round(MSE_lTrain,3))\n",
    "print('RMSE:', round(RMSE_lTrain,3))\n",
    "print('R2 Score:', round(R2_lTrain,3))\n",
    "\n",
    "print('\\n CV- TRAIN metrics\\n')\n",
    "print('R2 Score:', cv_scores)\n",
    "print(\"\\nAverage 10-Fold CV R2_score: {}\".format(np.mean(cv_scores).round(3)))\n",
    "\n",
    "\n",
    "print('\\n TEST metrics\\n')\n",
    "print('MAE:', round(MAE_l,3))\n",
    "print('MSE:', round(MSE_l,3))\n",
    "print('RMSE:', round(RMSE_l,3))\n",
    "print('R2 Score:', round(R2_l,3))"
   ]
  },
  {
   "cell_type": "markdown",
   "metadata": {},
   "source": [
    "## Multiple Linear Regression"
   ]
  },
  {
   "cell_type": "code",
   "execution_count": 77,
   "metadata": {},
   "outputs": [],
   "source": [
    "X_multi = data_scaled.drop(['density'], axis = 1)\n",
    "y_multi = data_scaled['density']"
   ]
  },
  {
   "cell_type": "code",
   "execution_count": 78,
   "metadata": {},
   "outputs": [],
   "source": [
    "X_train_multi, X_test_multi, y_train_multi, y_test_multi = train_test_split(X_multi, y_multi, \n",
    "                                                    test_size = 0.33, \n",
    "                                                    random_state = 42)"
   ]
  },
  {
   "cell_type": "code",
   "execution_count": 79,
   "metadata": {},
   "outputs": [
    {
     "data": {
      "text/plain": [
       "LinearRegression()"
      ]
     },
     "execution_count": 79,
     "metadata": {},
     "output_type": "execute_result"
    }
   ],
   "source": [
    "regressor = LinearRegression()\n",
    "regressor.fit(X_train_multi, y_train_multi)"
   ]
  },
  {
   "cell_type": "code",
   "execution_count": 80,
   "metadata": {},
   "outputs": [
    {
     "data": {
      "text/plain": [
       "array([ 0.14236821,  0.1210883 ,  0.81061608, ..., -0.65569007,\n",
       "       -0.67007147,  0.0670477 ])"
      ]
     },
     "execution_count": 80,
     "metadata": {},
     "output_type": "execute_result"
    }
   ],
   "source": [
    "y_pred_multi = regressor.predict(X_test_multi)\n",
    "y_pred_multi"
   ]
  },
  {
   "cell_type": "code",
   "execution_count": 81,
   "metadata": {},
   "outputs": [
    {
     "data": {
      "text/plain": [
       "array([ 0.13049665,  0.86934684,  0.96482877, ...,  0.16734304,\n",
       "        0.21130905, -0.67220792])"
      ]
     },
     "execution_count": 81,
     "metadata": {},
     "output_type": "execute_result"
    }
   ],
   "source": [
    "y_pred_train_multi = regressor.predict(X_train_multi)\n",
    "y_pred_train_multi"
   ]
  },
  {
   "cell_type": "code",
   "execution_count": 82,
   "metadata": {},
   "outputs": [
    {
     "name": "stdout",
     "output_type": "stream",
     "text": [
      "Accuracy = 0.8959013181808361\n"
     ]
    }
   ],
   "source": [
    "accuracy_multi = regressor.score(X_test_multi, y_test_multi)\n",
    "print('Accuracy = '+ str(accuracy_multi))"
   ]
  },
  {
   "cell_type": "code",
   "execution_count": 83,
   "metadata": {},
   "outputs": [
    {
     "data": {
      "image/png": "[encoded data removed]",
      "text/plain": [
       "<Figure size 576x396 with 1 Axes>"
      ]
     },
     "metadata": {},
     "output_type": "display_data"
    }
   ],
   "source": [
    "plt.style.use('seaborn')\n",
    "\n",
    "y_pred1 = y_pred_multi\n",
    "y_test1 = y_test_multi\n",
    "y_pred_train1 = y_pred_train_multi\n",
    "y_train1 = y_train_multi\n",
    "\n",
    "plt.scatter(y_pred_multi, y_test_multi, color = 'mediumseagreen', marker = 'o', s = 35, alpha = 0.5,\n",
    "          label = 'Test data')\n",
    "\n",
    "plt.scatter(y_pred_train_multi, y_train_multi, color = 'darkslateblue', marker = 'o', s = 35, alpha = 0.5,\n",
    "          label = 'Train data')\n",
    "\n",
    "plt.title('Predicted Values vs Real values')\n",
    "plt.xlabel('Real values')\n",
    "plt.ylabel('Predicted Values')\n",
    "plt.legend(loc = 'upper left')\n",
    "plt.show()"
   ]
  },
  {
   "cell_type": "code",
   "execution_count": 84,
   "metadata": {},
   "outputs": [
    {
     "name": "stdout",
     "output_type": "stream",
     "text": [
      "      MReg_Real  MReg_Predicted\n",
      "3199  -0.222222        0.142368\n",
      "2527   0.111111        0.121088\n",
      "4100   1.222222        0.810616\n",
      "1926   0.222222        0.158505\n",
      "1536  -0.888889       -0.648239\n",
      "...         ...             ...\n",
      "932   -0.666667       -0.642499\n",
      "439   -0.555556       -0.671737\n",
      "1313  -0.888889       -0.655690\n",
      "678   -0.555556       -0.670071\n",
      "1756   0.333333        0.067048\n",
      "\n",
      "[1597 rows x 2 columns]\n"
     ]
    }
   ],
   "source": [
    "df_results = pd.DataFrame({'MReg_Real': y_test_multi, 'MReg_Predicted': y_pred_multi.flatten()})\n",
    "print(df_results)"
   ]
  },
  {
   "cell_type": "code",
   "execution_count": 85,
   "metadata": {},
   "outputs": [
    {
     "data": {
      "image/png": "[encoded data removed]",
      "text/plain": [
       "<Figure size 1080x720 with 1 Axes>"
      ]
     },
     "metadata": {},
     "output_type": "display_data"
    }
   ],
   "source": [
    "df1 = df_results.head(20)\n",
    "df1.plot(kind='bar',figsize=(15,10))\n",
    "plt.grid(which='major', linestyle='-', linewidth='0.5', color='black')\n",
    "plt.grid(which='minor', linestyle=':', linewidth='0.5', color='black')\n",
    "plt.show()"
   ]
  },
  {
   "cell_type": "code",
   "execution_count": 86,
   "metadata": {},
   "outputs": [
    {
     "name": "stdout",
     "output_type": "stream",
     "text": [
      "MAE: 0.17821196929797264\n",
      "MSE: 0.05318044655890654\n",
      "RMSE: 0.231\n",
      "R2 Score: 0.8959013181808361\n"
     ]
    }
   ],
   "source": [
    "# TEST set\n",
    "MAE_l = metrics.mean_absolute_error(y_test_multi, y_pred_multi)\n",
    "MSE_l = metrics.mean_squared_error(y_test_multi, y_pred_multi)\n",
    "RMSE_l = np.sqrt(metrics.mean_squared_error(y_test_multi, y_pred_multi))\n",
    "R2_l = r2_score(y_test_multi, y_pred_multi)\n",
    "\n",
    "print('MAE:', MAE_l)\n",
    "print('MSE:', MSE_l)\n",
    "print('RMSE:', round(RMSE_l,3))\n",
    "print('R2 Score:', R2_l)"
   ]
  },
  {
   "cell_type": "code",
   "execution_count": 87,
   "metadata": {},
   "outputs": [
    {
     "name": "stdout",
     "output_type": "stream",
     "text": [
      "Cross Validation R2_score: [0.91 0.91 0.9  0.91 0.92 0.91 0.81 0.89 0.9  0.9 ]\n",
      "\n",
      "Average 10-Fold CV R2_score: 0.895\n"
     ]
    }
   ],
   "source": [
    "from sklearn.model_selection import cross_val_score\n",
    "import math\n",
    "\n",
    "cv_reg_model = LinearRegression() #Let's initialize the method \n",
    "cv_scores = cross_val_score(cv_reg_model, X_train_multi, y_train_multi,\n",
    "                            cv=10, scoring='r2') # Let's define the K and the \n",
    "\n",
    "print('Cross Validation R2_score: {}'.format(cv_scores.round(2)))\n",
    "\n",
    "cv_scores = np.mean(cv_scores).round(3)\n",
    "print(\"\\nAverage 10-Fold CV R2_score: {}\".format(cv_scores))"
   ]
  },
  {
   "cell_type": "code",
   "execution_count": 88,
   "metadata": {},
   "outputs": [
    {
     "name": "stdout",
     "output_type": "stream",
     "text": [
      "\n",
      " TRAIN metrics\n",
      "\n",
      "MAE: 0.184\n",
      "MSE: 0.053\n",
      "RMSE: 0.23\n",
      "R2 Score: 0.896\n",
      "\n",
      " CV- TRAIN metrics\n",
      "\n",
      "R2 Score: 0.895\n",
      "\n",
      " TEST metrics\n",
      "\n",
      "MAE: 0.178\n",
      "MSE: 0.053\n",
      "RMSE: 0.231\n",
      "R2 Score: 0.896\n"
     ]
    }
   ],
   "source": [
    "# Let's calculate the metrics with our TRAIN dataset\n",
    "y_predTrain = regressor.predict(X_train_multi)\n",
    "\n",
    "MAE_lTrain = metrics.mean_absolute_error(y_train_multi, y_predTrain)\n",
    "MSE_lTrain = metrics.mean_squared_error(y_train_multi,y_predTrain)\n",
    "RMSE_lTrain = np.sqrt(metrics.mean_squared_error(y_train_multi, y_predTrain))\n",
    "R2_lTrain = r2_score(y_train_multi, y_predTrain)\n",
    "\n",
    "print('\\n TRAIN metrics\\n')\n",
    "print('MAE:', round(MAE_lTrain,3))\n",
    "print('MSE:', round(MSE_lTrain,3))\n",
    "print('RMSE:', round(RMSE_lTrain,3))\n",
    "print('R2 Score:', round(R2_lTrain,3))\n",
    "\n",
    "print('\\n CV- TRAIN metrics\\n')\n",
    "print('R2 Score:', cv_scores)\n",
    "\n",
    "print('\\n TEST metrics\\n')\n",
    "print('MAE:', round(MAE_l,3))\n",
    "print('MSE:', round(MSE_l,3))\n",
    "print('RMSE:', round(RMSE_l,3))\n",
    "print('R2 Score:', round(R2_l,3))"
   ]
  },
  {
   "cell_type": "markdown",
   "metadata": {},
   "source": [
    "# Model 1: Ridge Regression"
   ]
  },
  {
   "cell_type": "code",
   "execution_count": 89,
   "metadata": {},
   "outputs": [
    {
     "data": {
      "text/plain": [
       "RidgeCV(alphas=array([ 0.1,  0.5,  1. , 10. ]))"
      ]
     },
     "execution_count": 89,
     "metadata": {},
     "output_type": "execute_result"
    }
   ],
   "source": [
    "# Create ridge regression with three possible alpha values\n",
    "regr_cv = RidgeCV(alphas=[0.1,0.5, 1.0, 10.0])\n",
    "regr_cv"
   ]
  },
  {
   "cell_type": "code",
   "execution_count": 90,
   "metadata": {},
   "outputs": [
    {
     "data": {
      "text/plain": [
       "RidgeCV(alphas=array([ 0.1,  0.5,  1. , 10. ]))"
      ]
     },
     "execution_count": 90,
     "metadata": {},
     "output_type": "execute_result"
    }
   ],
   "source": [
    "# Fit the linear regression\n",
    "model_cv = regr_cv.fit(X_train_multi, y_train_multi)\n",
    "model_cv"
   ]
  },
  {
   "cell_type": "code",
   "execution_count": 91,
   "metadata": {},
   "outputs": [
    {
     "data": {
      "text/plain": [
       "1.0"
      ]
     },
     "execution_count": 91,
     "metadata": {},
     "output_type": "execute_result"
    }
   ],
   "source": [
    "#View Best Model’s Alpha Value\n",
    "model_cv.alpha_"
   ]
  },
  {
   "cell_type": "code",
   "execution_count": 92,
   "metadata": {},
   "outputs": [],
   "source": [
    "regr_cv = RidgeCV(alphas=[1,2,5])"
   ]
  },
  {
   "cell_type": "code",
   "execution_count": 93,
   "metadata": {},
   "outputs": [
    {
     "data": {
      "text/plain": [
       "5"
      ]
     },
     "execution_count": 93,
     "metadata": {},
     "output_type": "execute_result"
    }
   ],
   "source": [
    "# Fit the linear regression\n",
    "model_cv = regr_cv.fit(X_train_multi, y_train_multi)\n",
    "\n",
    "#View Best Model’s Alpha Value\n",
    "model_cv.alpha_"
   ]
  },
  {
   "cell_type": "code",
   "execution_count": 94,
   "metadata": {},
   "outputs": [
    {
     "data": {
      "text/plain": [
       "Ridge(alpha=5)"
      ]
     },
     "execution_count": 94,
     "metadata": {},
     "output_type": "execute_result"
    }
   ],
   "source": [
    "rr_ = Ridge(alpha = model_cv.alpha_)# higher the alpha value, more restriction on the coefficients; low alpha > more generalization, coefficients are barely\n",
    "# restricted and in this case linear and ridge regression resembles\n",
    "\n",
    "rr_.fit(X_train_multi, y_train_multi)"
   ]
  },
  {
   "cell_type": "code",
   "execution_count": 95,
   "metadata": {},
   "outputs": [],
   "source": [
    "# Execute this line (of course, modifying the path)\n",
    "import sys\n",
    "sys.path.insert(0, '../_functions_/')\n",
    "#print(sys.path)"
   ]
  },
  {
   "cell_type": "code",
   "execution_count": 96,
   "metadata": {},
   "outputs": [],
   "source": [
    "from fx_MLRegression import *"
   ]
  },
  {
   "cell_type": "code",
   "execution_count": 97,
   "metadata": {},
   "outputs": [
    {
     "data": {
      "text/html": [
       "<div>\n",
       "<style scoped>\n",
       "    .dataframe tbody tr th:only-of-type {\n",
       "        vertical-align: middle;\n",
       "    }\n",
       "\n",
       "    .dataframe tbody tr th {\n",
       "        vertical-align: top;\n",
       "    }\n",
       "\n",
       "    .dataframe thead th {\n",
       "        text-align: right;\n",
       "    }\n",
       "</style>\n",
       "<table border=\"1\" class=\"dataframe\">\n",
       "  <thead>\n",
       "    <tr style=\"text-align: right;\">\n",
       "      <th></th>\n",
       "      <th>MAE</th>\n",
       "      <th>MSE</th>\n",
       "      <th>RMSE</th>\n",
       "      <th>R2</th>\n",
       "      <th>CV_R2</th>\n",
       "    </tr>\n",
       "  </thead>\n",
       "  <tbody>\n",
       "    <tr>\n",
       "      <th>Train</th>\n",
       "      <td>0.183824</td>\n",
       "      <td>0.052865</td>\n",
       "      <td>0.229923</td>\n",
       "      <td>0.895703</td>\n",
       "      <td>0.895</td>\n",
       "    </tr>\n",
       "  </tbody>\n",
       "</table>\n",
       "</div>"
      ],
      "text/plain": [
       "            MAE       MSE      RMSE        R2  CV_R2\n",
       "Train  0.183824  0.052865  0.229923  0.895703  0.895"
      ]
     },
     "execution_count": 97,
     "metadata": {},
     "output_type": "execute_result"
    }
   ],
   "source": [
    "metrics_train(X_train_multi, y_train_multi, rr_)"
   ]
  },
  {
   "cell_type": "code",
   "execution_count": 98,
   "metadata": {},
   "outputs": [
    {
     "data": {
      "text/html": [
       "<div>\n",
       "<style scoped>\n",
       "    .dataframe tbody tr th:only-of-type {\n",
       "        vertical-align: middle;\n",
       "    }\n",
       "\n",
       "    .dataframe tbody tr th {\n",
       "        vertical-align: top;\n",
       "    }\n",
       "\n",
       "    .dataframe thead th {\n",
       "        text-align: right;\n",
       "    }\n",
       "</style>\n",
       "<table border=\"1\" class=\"dataframe\">\n",
       "  <thead>\n",
       "    <tr style=\"text-align: right;\">\n",
       "      <th></th>\n",
       "      <th>MAE</th>\n",
       "      <th>MSE</th>\n",
       "      <th>RMSE</th>\n",
       "      <th>R2</th>\n",
       "      <th>CV_R2</th>\n",
       "    </tr>\n",
       "  </thead>\n",
       "  <tbody>\n",
       "    <tr>\n",
       "      <th>Test</th>\n",
       "      <td>0.178214</td>\n",
       "      <td>0.053157</td>\n",
       "      <td>0.230558</td>\n",
       "      <td>0.895947</td>\n",
       "      <td>0.896</td>\n",
       "    </tr>\n",
       "  </tbody>\n",
       "</table>\n",
       "</div>"
      ],
      "text/plain": [
       "           MAE       MSE      RMSE        R2  CV_R2\n",
       "Test  0.178214  0.053157  0.230558  0.895947  0.896"
      ]
     },
     "execution_count": 98,
     "metadata": {},
     "output_type": "execute_result"
    }
   ],
   "source": [
    "metrics_test(X_test_multi, y_test_multi, rr_)"
   ]
  },
  {
   "cell_type": "code",
   "execution_count": 99,
   "metadata": {},
   "outputs": [
    {
     "data": {
      "text/html": [
       "<div>\n",
       "<style scoped>\n",
       "    .dataframe tbody tr th:only-of-type {\n",
       "        vertical-align: middle;\n",
       "    }\n",
       "\n",
       "    .dataframe tbody tr th {\n",
       "        vertical-align: top;\n",
       "    }\n",
       "\n",
       "    .dataframe thead th {\n",
       "        text-align: right;\n",
       "    }\n",
       "</style>\n",
       "<table border=\"1\" class=\"dataframe\">\n",
       "  <thead>\n",
       "    <tr style=\"text-align: right;\">\n",
       "      <th></th>\n",
       "      <th>MAE</th>\n",
       "      <th>MSE</th>\n",
       "      <th>RMSE</th>\n",
       "      <th>R2</th>\n",
       "      <th>CV_R2</th>\n",
       "    </tr>\n",
       "  </thead>\n",
       "  <tbody>\n",
       "    <tr>\n",
       "      <th>Train</th>\n",
       "      <td>0.183824</td>\n",
       "      <td>0.052865</td>\n",
       "      <td>0.229923</td>\n",
       "      <td>0.895703</td>\n",
       "      <td>0.895</td>\n",
       "    </tr>\n",
       "    <tr>\n",
       "      <th>Test</th>\n",
       "      <td>0.178214</td>\n",
       "      <td>0.053157</td>\n",
       "      <td>0.230558</td>\n",
       "      <td>0.895947</td>\n",
       "      <td>0.896</td>\n",
       "    </tr>\n",
       "  </tbody>\n",
       "</table>\n",
       "</div>"
      ],
      "text/plain": [
       "            MAE       MSE      RMSE        R2  CV_R2\n",
       "Train  0.183824  0.052865  0.229923  0.895703  0.895\n",
       "Test   0.178214  0.053157  0.230558  0.895947  0.896"
      ]
     },
     "execution_count": 99,
     "metadata": {},
     "output_type": "execute_result"
    }
   ],
   "source": [
    "Allmetrics(rr_, X_train_multi, y_train_multi, X_test_multi, y_test_multi)"
   ]
  },
  {
   "cell_type": "code",
   "execution_count": 100,
   "metadata": {},
   "outputs": [],
   "source": [
    "rr_metrics = Allmetrics(rr_, X_train_multi, y_train_multi, X_test_multi, y_test_multi)"
   ]
  },
  {
   "cell_type": "code",
   "execution_count": 101,
   "metadata": {},
   "outputs": [
    {
     "data": {
      "text/plain": [
       "array([ 0.14279457,  0.12171357,  0.80665906, ..., -0.65573569,\n",
       "       -0.66981458,  0.06623961])"
      ]
     },
     "execution_count": 101,
     "metadata": {},
     "output_type": "execute_result"
    }
   ],
   "source": [
    "# Visualitzation of the model performance\n",
    "\n",
    "y_predRR = rr_.predict(X_test_multi)\n",
    "\n",
    "y_predRR"
   ]
  },
  {
   "cell_type": "code",
   "execution_count": 102,
   "metadata": {},
   "outputs": [
    {
     "data": {
      "text/html": [
       "<div>\n",
       "<style scoped>\n",
       "    .dataframe tbody tr th:only-of-type {\n",
       "        vertical-align: middle;\n",
       "    }\n",
       "\n",
       "    .dataframe tbody tr th {\n",
       "        vertical-align: top;\n",
       "    }\n",
       "\n",
       "    .dataframe thead th {\n",
       "        text-align: right;\n",
       "    }\n",
       "</style>\n",
       "<table border=\"1\" class=\"dataframe\">\n",
       "  <thead>\n",
       "    <tr style=\"text-align: right;\">\n",
       "      <th></th>\n",
       "      <th>0</th>\n",
       "    </tr>\n",
       "  </thead>\n",
       "  <tbody>\n",
       "    <tr>\n",
       "      <th>0</th>\n",
       "      <td>0.142795</td>\n",
       "    </tr>\n",
       "    <tr>\n",
       "      <th>1</th>\n",
       "      <td>0.121714</td>\n",
       "    </tr>\n",
       "    <tr>\n",
       "      <th>2</th>\n",
       "      <td>0.806659</td>\n",
       "    </tr>\n",
       "    <tr>\n",
       "      <th>3</th>\n",
       "      <td>0.159154</td>\n",
       "    </tr>\n",
       "    <tr>\n",
       "      <th>4</th>\n",
       "      <td>-0.646877</td>\n",
       "    </tr>\n",
       "    <tr>\n",
       "      <th>...</th>\n",
       "      <td>...</td>\n",
       "    </tr>\n",
       "    <tr>\n",
       "      <th>1592</th>\n",
       "      <td>-0.640664</td>\n",
       "    </tr>\n",
       "    <tr>\n",
       "      <th>1593</th>\n",
       "      <td>-0.672226</td>\n",
       "    </tr>\n",
       "    <tr>\n",
       "      <th>1594</th>\n",
       "      <td>-0.655736</td>\n",
       "    </tr>\n",
       "    <tr>\n",
       "      <th>1595</th>\n",
       "      <td>-0.669815</td>\n",
       "    </tr>\n",
       "    <tr>\n",
       "      <th>1596</th>\n",
       "      <td>0.066240</td>\n",
       "    </tr>\n",
       "  </tbody>\n",
       "</table>\n",
       "<p>1597 rows × 1 columns</p>\n",
       "</div>"
      ],
      "text/plain": [
       "             0\n",
       "0     0.142795\n",
       "1     0.121714\n",
       "2     0.806659\n",
       "3     0.159154\n",
       "4    -0.646877\n",
       "...        ...\n",
       "1592 -0.640664\n",
       "1593 -0.672226\n",
       "1594 -0.655736\n",
       "1595 -0.669815\n",
       "1596  0.066240\n",
       "\n",
       "[1597 rows x 1 columns]"
      ]
     },
     "execution_count": 102,
     "metadata": {},
     "output_type": "execute_result"
    }
   ],
   "source": [
    "#Let's create a dataframe containing the real and predicted values_\n",
    "\n",
    "y_pred_a = pd.DataFrame(y_predRR)\n",
    "y_pred_a"
   ]
  },
  {
   "cell_type": "code",
   "execution_count": 103,
   "metadata": {},
   "outputs": [
    {
     "data": {
      "text/plain": [
       "0      -0.222222\n",
       "1       0.111111\n",
       "2       1.222222\n",
       "3       0.222222\n",
       "4      -0.888889\n",
       "          ...   \n",
       "1592   -0.666667\n",
       "1593   -0.555556\n",
       "1594   -0.888889\n",
       "1595   -0.555556\n",
       "1596    0.333333\n",
       "Name: density, Length: 1597, dtype: float64"
      ]
     },
     "execution_count": 103,
     "metadata": {},
     "output_type": "execute_result"
    }
   ],
   "source": [
    "y_test_a = y_test_multi.reset_index(drop=True, inplace=False)\n",
    "y_test_a"
   ]
  },
  {
   "cell_type": "code",
   "execution_count": 104,
   "metadata": {},
   "outputs": [],
   "source": [
    "# We create a new dataframe containing both the real (y_test) and the predicted value by the model (y_pred)\n",
    "pred_act_df = pd.concat([y_test_a,y_pred_a], axis=1)"
   ]
  },
  {
   "cell_type": "code",
   "execution_count": 105,
   "metadata": {},
   "outputs": [
    {
     "data": {
      "text/html": [
       "<div>\n",
       "<style scoped>\n",
       "    .dataframe tbody tr th:only-of-type {\n",
       "        vertical-align: middle;\n",
       "    }\n",
       "\n",
       "    .dataframe tbody tr th {\n",
       "        vertical-align: top;\n",
       "    }\n",
       "\n",
       "    .dataframe thead th {\n",
       "        text-align: right;\n",
       "    }\n",
       "</style>\n",
       "<table border=\"1\" class=\"dataframe\">\n",
       "  <thead>\n",
       "    <tr style=\"text-align: right;\">\n",
       "      <th></th>\n",
       "      <th>density</th>\n",
       "      <th>0</th>\n",
       "    </tr>\n",
       "  </thead>\n",
       "  <tbody>\n",
       "    <tr>\n",
       "      <th>0</th>\n",
       "      <td>-0.222222</td>\n",
       "      <td>0.142795</td>\n",
       "    </tr>\n",
       "    <tr>\n",
       "      <th>1</th>\n",
       "      <td>0.111111</td>\n",
       "      <td>0.121714</td>\n",
       "    </tr>\n",
       "    <tr>\n",
       "      <th>2</th>\n",
       "      <td>1.222222</td>\n",
       "      <td>0.806659</td>\n",
       "    </tr>\n",
       "    <tr>\n",
       "      <th>3</th>\n",
       "      <td>0.222222</td>\n",
       "      <td>0.159154</td>\n",
       "    </tr>\n",
       "    <tr>\n",
       "      <th>4</th>\n",
       "      <td>-0.888889</td>\n",
       "      <td>-0.646877</td>\n",
       "    </tr>\n",
       "    <tr>\n",
       "      <th>...</th>\n",
       "      <td>...</td>\n",
       "      <td>...</td>\n",
       "    </tr>\n",
       "    <tr>\n",
       "      <th>1592</th>\n",
       "      <td>-0.666667</td>\n",
       "      <td>-0.640664</td>\n",
       "    </tr>\n",
       "    <tr>\n",
       "      <th>1593</th>\n",
       "      <td>-0.555556</td>\n",
       "      <td>-0.672226</td>\n",
       "    </tr>\n",
       "    <tr>\n",
       "      <th>1594</th>\n",
       "      <td>-0.888889</td>\n",
       "      <td>-0.655736</td>\n",
       "    </tr>\n",
       "    <tr>\n",
       "      <th>1595</th>\n",
       "      <td>-0.555556</td>\n",
       "      <td>-0.669815</td>\n",
       "    </tr>\n",
       "    <tr>\n",
       "      <th>1596</th>\n",
       "      <td>0.333333</td>\n",
       "      <td>0.066240</td>\n",
       "    </tr>\n",
       "  </tbody>\n",
       "</table>\n",
       "<p>1597 rows × 2 columns</p>\n",
       "</div>"
      ],
      "text/plain": [
       "       density         0\n",
       "0    -0.222222  0.142795\n",
       "1     0.111111  0.121714\n",
       "2     1.222222  0.806659\n",
       "3     0.222222  0.159154\n",
       "4    -0.888889 -0.646877\n",
       "...        ...       ...\n",
       "1592 -0.666667 -0.640664\n",
       "1593 -0.555556 -0.672226\n",
       "1594 -0.888889 -0.655736\n",
       "1595 -0.555556 -0.669815\n",
       "1596  0.333333  0.066240\n",
       "\n",
       "[1597 rows x 2 columns]"
      ]
     },
     "execution_count": 105,
     "metadata": {},
     "output_type": "execute_result"
    }
   ],
   "source": [
    "pred_act_df"
   ]
  },
  {
   "cell_type": "code",
   "execution_count": 106,
   "metadata": {},
   "outputs": [
    {
     "data": {
      "text/html": [
       "<div>\n",
       "<style scoped>\n",
       "    .dataframe tbody tr th:only-of-type {\n",
       "        vertical-align: middle;\n",
       "    }\n",
       "\n",
       "    .dataframe tbody tr th {\n",
       "        vertical-align: top;\n",
       "    }\n",
       "\n",
       "    .dataframe thead th {\n",
       "        text-align: right;\n",
       "    }\n",
       "</style>\n",
       "<table border=\"1\" class=\"dataframe\">\n",
       "  <thead>\n",
       "    <tr style=\"text-align: right;\">\n",
       "      <th></th>\n",
       "      <th>Real</th>\n",
       "      <th>Predicted</th>\n",
       "    </tr>\n",
       "  </thead>\n",
       "  <tbody>\n",
       "    <tr>\n",
       "      <th>0</th>\n",
       "      <td>-0.222222</td>\n",
       "      <td>0.142795</td>\n",
       "    </tr>\n",
       "    <tr>\n",
       "      <th>1</th>\n",
       "      <td>0.111111</td>\n",
       "      <td>0.121714</td>\n",
       "    </tr>\n",
       "    <tr>\n",
       "      <th>2</th>\n",
       "      <td>1.222222</td>\n",
       "      <td>0.806659</td>\n",
       "    </tr>\n",
       "    <tr>\n",
       "      <th>3</th>\n",
       "      <td>0.222222</td>\n",
       "      <td>0.159154</td>\n",
       "    </tr>\n",
       "    <tr>\n",
       "      <th>4</th>\n",
       "      <td>-0.888889</td>\n",
       "      <td>-0.646877</td>\n",
       "    </tr>\n",
       "    <tr>\n",
       "      <th>...</th>\n",
       "      <td>...</td>\n",
       "      <td>...</td>\n",
       "    </tr>\n",
       "    <tr>\n",
       "      <th>1592</th>\n",
       "      <td>-0.666667</td>\n",
       "      <td>-0.640664</td>\n",
       "    </tr>\n",
       "    <tr>\n",
       "      <th>1593</th>\n",
       "      <td>-0.555556</td>\n",
       "      <td>-0.672226</td>\n",
       "    </tr>\n",
       "    <tr>\n",
       "      <th>1594</th>\n",
       "      <td>-0.888889</td>\n",
       "      <td>-0.655736</td>\n",
       "    </tr>\n",
       "    <tr>\n",
       "      <th>1595</th>\n",
       "      <td>-0.555556</td>\n",
       "      <td>-0.669815</td>\n",
       "    </tr>\n",
       "    <tr>\n",
       "      <th>1596</th>\n",
       "      <td>0.333333</td>\n",
       "      <td>0.066240</td>\n",
       "    </tr>\n",
       "  </tbody>\n",
       "</table>\n",
       "<p>1597 rows × 2 columns</p>\n",
       "</div>"
      ],
      "text/plain": [
       "          Real  Predicted\n",
       "0    -0.222222   0.142795\n",
       "1     0.111111   0.121714\n",
       "2     1.222222   0.806659\n",
       "3     0.222222   0.159154\n",
       "4    -0.888889  -0.646877\n",
       "...        ...        ...\n",
       "1592 -0.666667  -0.640664\n",
       "1593 -0.555556  -0.672226\n",
       "1594 -0.888889  -0.655736\n",
       "1595 -0.555556  -0.669815\n",
       "1596  0.333333   0.066240\n",
       "\n",
       "[1597 rows x 2 columns]"
      ]
     },
     "execution_count": 106,
     "metadata": {},
     "output_type": "execute_result"
    }
   ],
   "source": [
    "pred_act_df.rename({'density': 'Real', 0: 'Predicted'}, axis=1, inplace=True)\n",
    "pred_act_df"
   ]
  },
  {
   "cell_type": "code",
   "execution_count": 107,
   "metadata": {},
   "outputs": [
    {
     "data": {
      "image/png": "[encoded data removed]",
      "text/plain": [
       "<Figure size 432x432 with 1 Axes>"
      ]
     },
     "metadata": {},
     "output_type": "display_data"
    }
   ],
   "source": [
    "# Let's represent the preducted values vs the real values\n",
    "plt.figure(figsize=(6, 6))\n",
    "\n",
    "#Limits\n",
    "maxlimit = pred_act_df['Real'].max()\n",
    "minlimit = pred_act_df['Real'].min()\n",
    "plt.xlim(-1, maxlimit)\n",
    "plt.ylim(-1, maxlimit)\n",
    "\n",
    "plt.scatter(pred_act_df['Predicted'], \n",
    "            pred_act_df['Real'], s=10)\n",
    "plt.xlabel('Predicted diamond price')\n",
    "plt.ylabel('Real diamond Price')\n",
    "\n",
    "plt.autoscale(enable=True, axis='x', tight=True)\n",
    "plt.autoscale(enable=True, axis='y', tight=True)\n",
    "\n",
    "plt.plot([minlimit,maxlimit], [minlimit,maxlimit], ls=\"--\", c=\".3\")\n",
    "plt.title('[Ridge] - Actual vs Predicted diamond Prices')\n",
    "plt.show()"
   ]
  },
  {
   "cell_type": "markdown",
   "metadata": {},
   "source": [
    "# Model 2: Lasso Regression"
   ]
  },
  {
   "cell_type": "code",
   "execution_count": 108,
   "metadata": {},
   "outputs": [
    {
     "data": {
      "text/plain": [
       "Lasso(alpha=0.0001)"
      ]
     },
     "execution_count": 108,
     "metadata": {},
     "output_type": "execute_result"
    }
   ],
   "source": [
    "clf_la = Lasso(alpha=0.0001) #alpha=1.0 by default\n",
    "clf_la\n",
    "clf_la.fit(X_train_multi, y_train_multi)"
   ]
  },
  {
   "cell_type": "code",
   "execution_count": 109,
   "metadata": {},
   "outputs": [
    {
     "data": {
      "text/plain": [
       "fixed acidity           0.217924\n",
       "volatile acidity        0.000860\n",
       "citric acid            -0.000572\n",
       "residual sugar          0.010719\n",
       "chlorides              -0.005286\n",
       "free sulfur dioxide    -0.003293\n",
       "total sulfur dioxide    0.007799\n",
       "water_cont             -0.035807\n",
       "pH                     -0.001229\n",
       "sulphates               0.002031\n",
       "alcohol                -0.009734\n",
       "quality                 0.614832\n",
       "dtype: float64"
      ]
     },
     "execution_count": 109,
     "metadata": {},
     "output_type": "execute_result"
    }
   ],
   "source": [
    "pd.Series(clf_la.coef_, index=X_multi.columns)"
   ]
  },
  {
   "cell_type": "code",
   "execution_count": 110,
   "metadata": {},
   "outputs": [],
   "source": [
    "# Visualitzation of the model performance\n",
    "\n",
    "y_predLA = clf_la.predict(X_test_multi)\n",
    "\n",
    "# Let's create a dataframe containing the real and predicted values_\n",
    "\n",
    "y_pred_a = pd.DataFrame(y_predLA).reset_index(drop=True)\n",
    "y_test_a = y_test_multi.reset_index(drop=True, inplace=False)\n",
    "\n",
    "# We create a new dataframe containing both the real (y_test) and the predicted value by the model (y_pred)\n",
    "pred_act_df = pd.concat([y_test_a,y_pred_a], axis=1)"
   ]
  },
  {
   "cell_type": "code",
   "execution_count": 111,
   "metadata": {},
   "outputs": [
    {
     "data": {
      "text/html": [
       "<div>\n",
       "<style scoped>\n",
       "    .dataframe tbody tr th:only-of-type {\n",
       "        vertical-align: middle;\n",
       "    }\n",
       "\n",
       "    .dataframe tbody tr th {\n",
       "        vertical-align: top;\n",
       "    }\n",
       "\n",
       "    .dataframe thead th {\n",
       "        text-align: right;\n",
       "    }\n",
       "</style>\n",
       "<table border=\"1\" class=\"dataframe\">\n",
       "  <thead>\n",
       "    <tr style=\"text-align: right;\">\n",
       "      <th></th>\n",
       "      <th>Real</th>\n",
       "      <th>Predicted</th>\n",
       "    </tr>\n",
       "  </thead>\n",
       "  <tbody>\n",
       "    <tr>\n",
       "      <th>0</th>\n",
       "      <td>-0.222222</td>\n",
       "      <td>0.142064</td>\n",
       "    </tr>\n",
       "    <tr>\n",
       "      <th>1</th>\n",
       "      <td>0.111111</td>\n",
       "      <td>0.123049</td>\n",
       "    </tr>\n",
       "    <tr>\n",
       "      <th>2</th>\n",
       "      <td>1.222222</td>\n",
       "      <td>0.810177</td>\n",
       "    </tr>\n",
       "    <tr>\n",
       "      <th>3</th>\n",
       "      <td>0.222222</td>\n",
       "      <td>0.158778</td>\n",
       "    </tr>\n",
       "    <tr>\n",
       "      <th>4</th>\n",
       "      <td>-0.888889</td>\n",
       "      <td>-0.647153</td>\n",
       "    </tr>\n",
       "    <tr>\n",
       "      <th>...</th>\n",
       "      <td>...</td>\n",
       "      <td>...</td>\n",
       "    </tr>\n",
       "    <tr>\n",
       "      <th>1592</th>\n",
       "      <td>-0.666667</td>\n",
       "      <td>-0.639339</td>\n",
       "    </tr>\n",
       "    <tr>\n",
       "      <th>1593</th>\n",
       "      <td>-0.555556</td>\n",
       "      <td>-0.671667</td>\n",
       "    </tr>\n",
       "    <tr>\n",
       "      <th>1594</th>\n",
       "      <td>-0.888889</td>\n",
       "      <td>-0.655974</td>\n",
       "    </tr>\n",
       "    <tr>\n",
       "      <th>1595</th>\n",
       "      <td>-0.555556</td>\n",
       "      <td>-0.669168</td>\n",
       "    </tr>\n",
       "    <tr>\n",
       "      <th>1596</th>\n",
       "      <td>0.333333</td>\n",
       "      <td>0.068568</td>\n",
       "    </tr>\n",
       "  </tbody>\n",
       "</table>\n",
       "<p>1597 rows × 2 columns</p>\n",
       "</div>"
      ],
      "text/plain": [
       "          Real  Predicted\n",
       "0    -0.222222   0.142064\n",
       "1     0.111111   0.123049\n",
       "2     1.222222   0.810177\n",
       "3     0.222222   0.158778\n",
       "4    -0.888889  -0.647153\n",
       "...        ...        ...\n",
       "1592 -0.666667  -0.639339\n",
       "1593 -0.555556  -0.671667\n",
       "1594 -0.888889  -0.655974\n",
       "1595 -0.555556  -0.669168\n",
       "1596  0.333333   0.068568\n",
       "\n",
       "[1597 rows x 2 columns]"
      ]
     },
     "execution_count": 111,
     "metadata": {},
     "output_type": "execute_result"
    }
   ],
   "source": [
    "pred_act_df.rename({'density': 'Real', 0: 'Predicted'}, \n",
    "                   axis=1, inplace=True)\n",
    "pred_act_df"
   ]
  },
  {
   "cell_type": "code",
   "execution_count": 112,
   "metadata": {},
   "outputs": [
    {
     "data": {
      "image/png": "[encoded data removed]",
      "text/plain": [
       "<Figure size 432x432 with 1 Axes>"
      ]
     },
     "metadata": {},
     "output_type": "display_data"
    }
   ],
   "source": [
    "# Let's represent the preducted values vs the real House value\n",
    "plt.figure(figsize=(6, 6))\n",
    "\n",
    "\n",
    "plt.scatter(pred_act_df['Predicted'], \n",
    "            pred_act_df['Real'], s=10)\n",
    "\n",
    "plt.xlabel('Predicted diamond price')\n",
    "plt.ylabel('Real diamon Price')\n",
    "\n",
    "plt.autoscale(enable=True, axis='x', tight=True)\n",
    "plt.autoscale(enable=True, axis='y', tight=True)\n",
    "\n",
    "plt.title('[LASSO] - Actual vs Predicted diamond Prices')\n",
    "plt.show()"
   ]
  },
  {
   "cell_type": "code",
   "execution_count": 113,
   "metadata": {},
   "outputs": [],
   "source": [
    "lasso_metrics = Allmetrics(clf_la, X_train_multi, y_train_multi, X_test_multi, y_test_multi)"
   ]
  },
  {
   "cell_type": "markdown",
   "metadata": {},
   "source": [
    "## Visualizing R2-Score of Algorithms"
   ]
  },
  {
   "cell_type": "code",
   "execution_count": 114,
   "metadata": {},
   "outputs": [
    {
     "data": {
      "text/plain": [
       "0.8957031012233782"
      ]
     },
     "execution_count": 114,
     "metadata": {},
     "output_type": "execute_result"
    }
   ],
   "source": [
    "rr_metrics.loc['Train','R2']"
   ]
  },
  {
   "cell_type": "code",
   "execution_count": 115,
   "metadata": {},
   "outputs": [
    {
     "data": {
      "text/plain": [
       "0.8957067354309889"
      ]
     },
     "execution_count": 115,
     "metadata": {},
     "output_type": "execute_result"
    }
   ],
   "source": [
    "lasso_metrics.loc['Train','R2']"
   ]
  },
  {
   "cell_type": "code",
   "execution_count": 116,
   "metadata": {},
   "outputs": [],
   "source": [
    "models = ['Ridge', 'Lasso']\n",
    "R2_Scores = [rr_metrics.loc['Train','R2'], lasso_metrics.loc['Train','R2']]"
   ]
  },
  {
   "cell_type": "code",
   "execution_count": 117,
   "metadata": {},
   "outputs": [
    {
     "data": {
      "text/html": [
       "<div>\n",
       "<style scoped>\n",
       "    .dataframe tbody tr th:only-of-type {\n",
       "        vertical-align: middle;\n",
       "    }\n",
       "\n",
       "    .dataframe tbody tr th {\n",
       "        vertical-align: top;\n",
       "    }\n",
       "\n",
       "    .dataframe thead th {\n",
       "        text-align: right;\n",
       "    }\n",
       "</style>\n",
       "<table border=\"1\" class=\"dataframe\">\n",
       "  <thead>\n",
       "    <tr style=\"text-align: right;\">\n",
       "      <th></th>\n",
       "      <th>Algorithms</th>\n",
       "      <th>R2-Scores</th>\n",
       "    </tr>\n",
       "  </thead>\n",
       "  <tbody>\n",
       "    <tr>\n",
       "      <th>1</th>\n",
       "      <td>Lasso</td>\n",
       "      <td>0.895707</td>\n",
       "    </tr>\n",
       "    <tr>\n",
       "      <th>0</th>\n",
       "      <td>Ridge</td>\n",
       "      <td>0.895703</td>\n",
       "    </tr>\n",
       "  </tbody>\n",
       "</table>\n",
       "</div>"
      ],
      "text/plain": [
       "  Algorithms  R2-Scores\n",
       "1      Lasso   0.895707\n",
       "0      Ridge   0.895703"
      ]
     },
     "execution_count": 117,
     "metadata": {},
     "output_type": "execute_result"
    }
   ],
   "source": [
    "compare = pd.DataFrame({'Algorithms' : models , 'R2-Scores' : R2_Scores})\n",
    "compare.sort_values(by='R2-Scores' ,ascending=False)"
   ]
  },
  {
   "cell_type": "code",
   "execution_count": null,
   "metadata": {},
   "outputs": [],
   "source": []
  }
 ],
 "metadata": {
  "hide_input": false,
  "kernelspec": {
   "display_name": "Python 3",
   "language": "python",
   "name": "python3"
  },
  "language_info": {
   "codemirror_mode": {
    "name": "ipython",
    "version": 3
   },
   "file_extension": ".py",
   "mimetype": "text/x-python",
   "name": "python",
   "nbconvert_exporter": "python",
   "pygments_lexer": "ipython3",
   "version": "3.7.10"
  },
  "toc": {
   "base_numbering": 1,
   "nav_menu": {},
   "number_sections": true,
   "sideBar": true,
   "skip_h1_title": false,
   "title_cell": "Table of Contents",
   "title_sidebar": "Contents",
   "toc_cell": false,
   "toc_position": {},
   "toc_section_display": true,
   "toc_window_display": false
  }
 },
 "nbformat": 4,
 "nbformat_minor": 1
}
